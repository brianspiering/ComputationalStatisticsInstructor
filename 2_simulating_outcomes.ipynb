{
 "cells": [
  {
   "cell_type": "markdown",
   "metadata": {
    "slideshow": {
     "slide_type": "slide"
    }
   },
   "source": [
    "<center><h1>Computational Statistics:</h1></center>\n",
    "<center><h1>Simulating Outcomes</h1></center>"
   ]
  },
  {
   "cell_type": "markdown",
   "metadata": {
    "slideshow": {
     "slide_type": "slide"
    }
   },
   "source": [
    "Preview\n",
    "-------\n",
    "\n",
    "- Use Python's `random` module to simulating probabilities of common events"
   ]
  },
  {
   "cell_type": "code",
   "execution_count": 58,
   "metadata": {
    "slideshow": {
     "slide_type": "notes"
    }
   },
   "outputs": [],
   "source": [
    "reset -fs"
   ]
  },
  {
   "cell_type": "code",
   "execution_count": 59,
   "metadata": {
    "slideshow": {
     "slide_type": "slide"
    }
   },
   "outputs": [],
   "source": [
    "# Python's random module generates pseudo-random numbers\n",
    "# from random import "
   ]
  },
  {
   "cell_type": "code",
   "execution_count": 60,
   "metadata": {
    "slideshow": {
     "slide_type": "fragment"
    }
   },
   "outputs": [],
   "source": [
    "# Import a function that chooses amoung discrete outcomes\n",
    "from random import choice"
   ]
  },
  {
   "cell_type": "code",
   "execution_count": 61,
   "metadata": {
    "slideshow": {
     "slide_type": "slide"
    }
   },
   "outputs": [],
   "source": [
    "choice?"
   ]
  },
  {
   "cell_type": "code",
   "execution_count": 62,
   "metadata": {
    "slideshow": {
     "slide_type": "slide"
    }
   },
   "outputs": [
    {
     "data": {
      "text/plain": [
       "5"
      ]
     },
     "execution_count": 62,
     "metadata": {},
     "output_type": "execute_result"
    }
   ],
   "source": [
    "# Roll a die 🎲\n",
    "choice([1, 2, 3, 4, 5, 6])"
   ]
  },
  {
   "cell_type": "markdown",
   "metadata": {
    "slideshow": {
     "slide_type": "fragment"
    }
   },
   "source": [
    "How could we roll a 4-sided die? or a 20-sided die?"
   ]
  },
  {
   "cell_type": "code",
   "execution_count": 63,
   "metadata": {
    "slideshow": {
     "slide_type": "slide"
    }
   },
   "outputs": [],
   "source": [
    "# Let's create a variable for number of sides"
   ]
  },
  {
   "cell_type": "code",
   "execution_count": 64,
   "metadata": {
    "slideshow": {
     "slide_type": "notes"
    }
   },
   "outputs": [
    {
     "data": {
      "text/plain": [
       "5"
      ]
     },
     "execution_count": 64,
     "metadata": {},
     "output_type": "execute_result"
    }
   ],
   "source": [
    "# Traditional die: A cube\n",
    "n_sides = 6\n",
    "faces = list(range(1, n_sides+1)) \n",
    "choice(faces)"
   ]
  },
  {
   "cell_type": "markdown",
   "metadata": {
    "slideshow": {
     "slide_type": "slide"
    }
   },
   "source": [
    "That is a lot of typing. Let's make a function:"
   ]
  },
  {
   "cell_type": "code",
   "execution_count": null,
   "metadata": {
    "slideshow": {
     "slide_type": "fragment"
    }
   },
   "outputs": [],
   "source": []
  },
  {
   "cell_type": "code",
   "execution_count": 65,
   "metadata": {
    "slideshow": {
     "slide_type": "notes"
    }
   },
   "outputs": [],
   "source": [
    "from typing import List\n",
    "\n",
    "def faces(n_sides: int) -> List[int]:\n",
    "    \"Enumerate the faces of a die\"\n",
    "    return list(range(1, n_sides+1))"
   ]
  },
  {
   "cell_type": "code",
   "execution_count": 66,
   "metadata": {
    "slideshow": {
     "slide_type": "fragment"
    }
   },
   "outputs": [],
   "source": [
    "faces?"
   ]
  },
  {
   "cell_type": "code",
   "execution_count": 67,
   "metadata": {
    "slideshow": {
     "slide_type": "slide"
    }
   },
   "outputs": [
    {
     "data": {
      "text/plain": [
       "1"
      ]
     },
     "execution_count": 67,
     "metadata": {},
     "output_type": "execute_result"
    }
   ],
   "source": [
    "# Roll a 20-sided die\n",
    "choice(faces(n_sides=20))"
   ]
  },
  {
   "cell_type": "markdown",
   "metadata": {
    "slideshow": {
     "slide_type": "slide"
    }
   },
   "source": [
    "What if we want to roll more than one die?"
   ]
  },
  {
   "cell_type": "code",
   "execution_count": 68,
   "metadata": {
    "slideshow": {
     "slide_type": "fragment"
    }
   },
   "outputs": [],
   "source": [
    "from random import choices\n",
    "\n",
    "choices?"
   ]
  },
  {
   "cell_type": "markdown",
   "metadata": {
    "slideshow": {
     "slide_type": "fragment"
    }
   },
   "source": [
    "Let's check out the documentation for [random.choices](https://docs.python.org/3/library/random.html)"
   ]
  },
  {
   "cell_type": "code",
   "execution_count": 69,
   "metadata": {
    "slideshow": {
     "slide_type": "slide"
    }
   },
   "outputs": [
    {
     "data": {
      "text/plain": [
       "[1, 4]"
      ]
     },
     "execution_count": 69,
     "metadata": {},
     "output_type": "execute_result"
    }
   ],
   "source": [
    "# Let's roll our die a couple of times\n",
    "choices(population=faces(n_sides=6),\n",
    "        k=2)"
   ]
  },
  {
   "cell_type": "code",
   "execution_count": 70,
   "metadata": {
    "slideshow": {
     "slide_type": "slide"
    }
   },
   "outputs": [],
   "source": [
    "# How could we roll a 20-sided die 1,000 times?\n",
    "\n"
   ]
  },
  {
   "cell_type": "code",
   "execution_count": 71,
   "metadata": {
    "slideshow": {
     "slide_type": "notes"
    }
   },
   "outputs": [
    {
     "data": {
      "text/plain": [
       "[6,\n",
       " 19,\n",
       " 3,\n",
       " 15,\n",
       " 12,\n",
       " 1,\n",
       " 10,\n",
       " 12,\n",
       " 10,\n",
       " 14,\n",
       " 11,\n",
       " 8,\n",
       " 10,\n",
       " 17,\n",
       " 18,\n",
       " 8,\n",
       " 1,\n",
       " 2,\n",
       " 13,\n",
       " 6,\n",
       " 12,\n",
       " 8,\n",
       " 17,\n",
       " 5,\n",
       " 1,\n",
       " 19,\n",
       " 17,\n",
       " 16,\n",
       " 7,\n",
       " 18,\n",
       " 18,\n",
       " 10,\n",
       " 14,\n",
       " 2,\n",
       " 9,\n",
       " 2,\n",
       " 11,\n",
       " 1,\n",
       " 3,\n",
       " 6,\n",
       " 8,\n",
       " 17,\n",
       " 3,\n",
       " 15,\n",
       " 1,\n",
       " 14,\n",
       " 12,\n",
       " 20,\n",
       " 3,\n",
       " 6,\n",
       " 12,\n",
       " 16,\n",
       " 16,\n",
       " 7,\n",
       " 12,\n",
       " 20,\n",
       " 20,\n",
       " 12,\n",
       " 3,\n",
       " 8,\n",
       " 17,\n",
       " 17,\n",
       " 19,\n",
       " 4,\n",
       " 19,\n",
       " 20,\n",
       " 4,\n",
       " 13,\n",
       " 8,\n",
       " 19,\n",
       " 11,\n",
       " 5,\n",
       " 1,\n",
       " 2,\n",
       " 18,\n",
       " 11,\n",
       " 2,\n",
       " 13,\n",
       " 18,\n",
       " 20,\n",
       " 11,\n",
       " 7,\n",
       " 19,\n",
       " 8,\n",
       " 14,\n",
       " 14,\n",
       " 10,\n",
       " 5,\n",
       " 15,\n",
       " 5,\n",
       " 4,\n",
       " 17,\n",
       " 17,\n",
       " 20,\n",
       " 20,\n",
       " 6,\n",
       " 18,\n",
       " 14,\n",
       " 16,\n",
       " 6,\n",
       " 8,\n",
       " 1,\n",
       " 6,\n",
       " 8,\n",
       " 8,\n",
       " 12,\n",
       " 9,\n",
       " 17,\n",
       " 2,\n",
       " 19,\n",
       " 3,\n",
       " 9,\n",
       " 16,\n",
       " 8,\n",
       " 19,\n",
       " 18,\n",
       " 3,\n",
       " 13,\n",
       " 5,\n",
       " 18,\n",
       " 1,\n",
       " 13,\n",
       " 15,\n",
       " 19,\n",
       " 19,\n",
       " 17,\n",
       " 4,\n",
       " 13,\n",
       " 4,\n",
       " 3,\n",
       " 1,\n",
       " 16,\n",
       " 10,\n",
       " 1,\n",
       " 16,\n",
       " 11,\n",
       " 4,\n",
       " 5,\n",
       " 13,\n",
       " 3,\n",
       " 6,\n",
       " 5,\n",
       " 5,\n",
       " 9,\n",
       " 11,\n",
       " 16,\n",
       " 19,\n",
       " 14,\n",
       " 4,\n",
       " 18,\n",
       " 11,\n",
       " 6,\n",
       " 13,\n",
       " 2,\n",
       " 1,\n",
       " 9,\n",
       " 3,\n",
       " 20,\n",
       " 1,\n",
       " 5,\n",
       " 4,\n",
       " 13,\n",
       " 3,\n",
       " 18,\n",
       " 2,\n",
       " 9,\n",
       " 17,\n",
       " 15,\n",
       " 15,\n",
       " 13,\n",
       " 20,\n",
       " 19,\n",
       " 17,\n",
       " 13,\n",
       " 14,\n",
       " 5,\n",
       " 19,\n",
       " 5,\n",
       " 7,\n",
       " 14,\n",
       " 6,\n",
       " 16,\n",
       " 15,\n",
       " 3,\n",
       " 15,\n",
       " 10,\n",
       " 15,\n",
       " 17,\n",
       " 6,\n",
       " 20,\n",
       " 20,\n",
       " 8,\n",
       " 16,\n",
       " 20,\n",
       " 6,\n",
       " 20,\n",
       " 14,\n",
       " 17,\n",
       " 19,\n",
       " 6,\n",
       " 12,\n",
       " 15,\n",
       " 1,\n",
       " 3,\n",
       " 12,\n",
       " 15,\n",
       " 12,\n",
       " 11,\n",
       " 2,\n",
       " 3,\n",
       " 16,\n",
       " 15,\n",
       " 1,\n",
       " 17,\n",
       " 20,\n",
       " 15,\n",
       " 4,\n",
       " 19,\n",
       " 3,\n",
       " 6,\n",
       " 13,\n",
       " 20,\n",
       " 11,\n",
       " 15,\n",
       " 14,\n",
       " 4,\n",
       " 17,\n",
       " 1,\n",
       " 10,\n",
       " 2,\n",
       " 12,\n",
       " 19,\n",
       " 16,\n",
       " 9,\n",
       " 15,\n",
       " 18,\n",
       " 12,\n",
       " 6,\n",
       " 16,\n",
       " 14,\n",
       " 14,\n",
       " 17,\n",
       " 19,\n",
       " 17,\n",
       " 20,\n",
       " 10,\n",
       " 15,\n",
       " 13,\n",
       " 2,\n",
       " 20,\n",
       " 17,\n",
       " 9,\n",
       " 19,\n",
       " 2,\n",
       " 2,\n",
       " 2,\n",
       " 10,\n",
       " 2,\n",
       " 1,\n",
       " 11,\n",
       " 8,\n",
       " 11,\n",
       " 1,\n",
       " 11,\n",
       " 3,\n",
       " 15,\n",
       " 1,\n",
       " 7,\n",
       " 16,\n",
       " 8,\n",
       " 2,\n",
       " 3,\n",
       " 19,\n",
       " 14,\n",
       " 7,\n",
       " 6,\n",
       " 3,\n",
       " 17,\n",
       " 9,\n",
       " 9,\n",
       " 15,\n",
       " 1,\n",
       " 13,\n",
       " 20,\n",
       " 5,\n",
       " 1,\n",
       " 8,\n",
       " 2,\n",
       " 2,\n",
       " 18,\n",
       " 4,\n",
       " 3,\n",
       " 18,\n",
       " 20,\n",
       " 3,\n",
       " 10,\n",
       " 3,\n",
       " 4,\n",
       " 6,\n",
       " 16,\n",
       " 8,\n",
       " 11,\n",
       " 6,\n",
       " 3,\n",
       " 7,\n",
       " 6,\n",
       " 2,\n",
       " 8,\n",
       " 12,\n",
       " 7,\n",
       " 18,\n",
       " 5,\n",
       " 19,\n",
       " 12,\n",
       " 16,\n",
       " 18,\n",
       " 15,\n",
       " 5,\n",
       " 1,\n",
       " 2,\n",
       " 5,\n",
       " 15,\n",
       " 7,\n",
       " 20,\n",
       " 8,\n",
       " 4,\n",
       " 14,\n",
       " 5,\n",
       " 14,\n",
       " 10,\n",
       " 8,\n",
       " 7,\n",
       " 17,\n",
       " 13,\n",
       " 15,\n",
       " 20,\n",
       " 19,\n",
       " 4,\n",
       " 12,\n",
       " 19,\n",
       " 1,\n",
       " 14,\n",
       " 13,\n",
       " 7,\n",
       " 9,\n",
       " 18,\n",
       " 5,\n",
       " 7,\n",
       " 11,\n",
       " 15,\n",
       " 16,\n",
       " 12,\n",
       " 12,\n",
       " 5,\n",
       " 12,\n",
       " 10,\n",
       " 8,\n",
       " 20,\n",
       " 11,\n",
       " 14,\n",
       " 17,\n",
       " 5,\n",
       " 3,\n",
       " 11,\n",
       " 13,\n",
       " 2,\n",
       " 17,\n",
       " 17,\n",
       " 12,\n",
       " 15,\n",
       " 8,\n",
       " 16,\n",
       " 16,\n",
       " 15,\n",
       " 5,\n",
       " 8,\n",
       " 15,\n",
       " 12,\n",
       " 13,\n",
       " 11,\n",
       " 18,\n",
       " 13,\n",
       " 19,\n",
       " 12,\n",
       " 8,\n",
       " 19,\n",
       " 7,\n",
       " 11,\n",
       " 19,\n",
       " 15,\n",
       " 9,\n",
       " 15,\n",
       " 11,\n",
       " 6,\n",
       " 11,\n",
       " 4,\n",
       " 15,\n",
       " 1,\n",
       " 16,\n",
       " 15,\n",
       " 20,\n",
       " 16,\n",
       " 2,\n",
       " 11,\n",
       " 20,\n",
       " 4,\n",
       " 17,\n",
       " 15,\n",
       " 1,\n",
       " 5,\n",
       " 7,\n",
       " 9,\n",
       " 2,\n",
       " 19,\n",
       " 8,\n",
       " 12,\n",
       " 1,\n",
       " 15,\n",
       " 18,\n",
       " 16,\n",
       " 12,\n",
       " 9,\n",
       " 2,\n",
       " 15,\n",
       " 6,\n",
       " 12,\n",
       " 20,\n",
       " 3,\n",
       " 2,\n",
       " 15,\n",
       " 15,\n",
       " 17,\n",
       " 19,\n",
       " 12,\n",
       " 9,\n",
       " 17,\n",
       " 3,\n",
       " 15,\n",
       " 1,\n",
       " 13,\n",
       " 20,\n",
       " 19,\n",
       " 12,\n",
       " 13,\n",
       " 1,\n",
       " 4,\n",
       " 2,\n",
       " 9,\n",
       " 12,\n",
       " 3,\n",
       " 16,\n",
       " 10,\n",
       " 5,\n",
       " 7,\n",
       " 20,\n",
       " 10,\n",
       " 8,\n",
       " 6,\n",
       " 4,\n",
       " 7,\n",
       " 15,\n",
       " 8,\n",
       " 15,\n",
       " 11,\n",
       " 8,\n",
       " 5,\n",
       " 2,\n",
       " 19,\n",
       " 20,\n",
       " 1,\n",
       " 4,\n",
       " 6,\n",
       " 19,\n",
       " 19,\n",
       " 3,\n",
       " 20,\n",
       " 12,\n",
       " 4,\n",
       " 13,\n",
       " 13,\n",
       " 3,\n",
       " 9,\n",
       " 14,\n",
       " 12,\n",
       " 17,\n",
       " 17,\n",
       " 12,\n",
       " 11,\n",
       " 7,\n",
       " 9,\n",
       " 3,\n",
       " 16,\n",
       " 11,\n",
       " 17,\n",
       " 20,\n",
       " 15,\n",
       " 5,\n",
       " 19,\n",
       " 5,\n",
       " 14,\n",
       " 13,\n",
       " 13,\n",
       " 11,\n",
       " 10,\n",
       " 8,\n",
       " 3,\n",
       " 9,\n",
       " 17,\n",
       " 16,\n",
       " 15,\n",
       " 16,\n",
       " 1,\n",
       " 13,\n",
       " 4,\n",
       " 16,\n",
       " 2,\n",
       " 19,\n",
       " 5,\n",
       " 14,\n",
       " 18,\n",
       " 12,\n",
       " 12,\n",
       " 7,\n",
       " 11,\n",
       " 12,\n",
       " 20,\n",
       " 17,\n",
       " 2,\n",
       " 6,\n",
       " 5,\n",
       " 16,\n",
       " 9,\n",
       " 19,\n",
       " 1,\n",
       " 17,\n",
       " 20,\n",
       " 19,\n",
       " 15,\n",
       " 9,\n",
       " 19,\n",
       " 6,\n",
       " 6,\n",
       " 19,\n",
       " 7,\n",
       " 5,\n",
       " 15,\n",
       " 13,\n",
       " 6,\n",
       " 14,\n",
       " 3,\n",
       " 11,\n",
       " 15,\n",
       " 10,\n",
       " 14,\n",
       " 19,\n",
       " 9,\n",
       " 17,\n",
       " 1,\n",
       " 8,\n",
       " 2,\n",
       " 12,\n",
       " 15,\n",
       " 2,\n",
       " 5,\n",
       " 15,\n",
       " 19,\n",
       " 1,\n",
       " 20,\n",
       " 18,\n",
       " 19,\n",
       " 6,\n",
       " 2,\n",
       " 6,\n",
       " 4,\n",
       " 1,\n",
       " 20,\n",
       " 12,\n",
       " 20,\n",
       " 6,\n",
       " 11,\n",
       " 2,\n",
       " 12,\n",
       " 8,\n",
       " 19,\n",
       " 18,\n",
       " 10,\n",
       " 6,\n",
       " 1,\n",
       " 4,\n",
       " 4,\n",
       " 5,\n",
       " 16,\n",
       " 18,\n",
       " 18,\n",
       " 15,\n",
       " 16,\n",
       " 12,\n",
       " 19,\n",
       " 16,\n",
       " 12,\n",
       " 9,\n",
       " 17,\n",
       " 6,\n",
       " 6,\n",
       " 6,\n",
       " 12,\n",
       " 2,\n",
       " 14,\n",
       " 2,\n",
       " 4,\n",
       " 13,\n",
       " 11,\n",
       " 5,\n",
       " 17,\n",
       " 5,\n",
       " 15,\n",
       " 2,\n",
       " 2,\n",
       " 7,\n",
       " 13,\n",
       " 4,\n",
       " 3,\n",
       " 11,\n",
       " 14,\n",
       " 6,\n",
       " 20,\n",
       " 8,\n",
       " 9,\n",
       " 14,\n",
       " 10,\n",
       " 15,\n",
       " 12,\n",
       " 15,\n",
       " 12,\n",
       " 4,\n",
       " 12,\n",
       " 11,\n",
       " 7,\n",
       " 17,\n",
       " 9,\n",
       " 12,\n",
       " 16,\n",
       " 16,\n",
       " 20,\n",
       " 15,\n",
       " 14,\n",
       " 12,\n",
       " 19,\n",
       " 12,\n",
       " 16,\n",
       " 8,\n",
       " 20,\n",
       " 5,\n",
       " 3,\n",
       " 5,\n",
       " 1,\n",
       " 6,\n",
       " 16,\n",
       " 3,\n",
       " 4,\n",
       " 11,\n",
       " 16,\n",
       " 15,\n",
       " 7,\n",
       " 11,\n",
       " 2,\n",
       " 12,\n",
       " 4,\n",
       " 11,\n",
       " 18,\n",
       " 18,\n",
       " 11,\n",
       " 3,\n",
       " 3,\n",
       " 1,\n",
       " 11,\n",
       " 13,\n",
       " 9,\n",
       " 19,\n",
       " 20,\n",
       " 5,\n",
       " 2,\n",
       " 14,\n",
       " 7,\n",
       " 3,\n",
       " 14,\n",
       " 16,\n",
       " 14,\n",
       " 14,\n",
       " 17,\n",
       " 11,\n",
       " 15,\n",
       " 13,\n",
       " 13,\n",
       " 8,\n",
       " 19,\n",
       " 17,\n",
       " 12,\n",
       " 13,\n",
       " 5,\n",
       " 14,\n",
       " 7,\n",
       " 6,\n",
       " 18,\n",
       " 3,\n",
       " 15,\n",
       " 1,\n",
       " 9,\n",
       " 10,\n",
       " 5,\n",
       " 15,\n",
       " 11,\n",
       " 3,\n",
       " 7,\n",
       " 1,\n",
       " 2,\n",
       " 4,\n",
       " 20,\n",
       " 19,\n",
       " 16,\n",
       " 9,\n",
       " 2,\n",
       " 13,\n",
       " 19,\n",
       " 7,\n",
       " 11,\n",
       " 4,\n",
       " 12,\n",
       " 16,\n",
       " 16,\n",
       " 12,\n",
       " 15,\n",
       " 2,\n",
       " 18,\n",
       " 2,\n",
       " 15,\n",
       " 4,\n",
       " 14,\n",
       " 2,\n",
       " 18,\n",
       " 17,\n",
       " 11,\n",
       " 2,\n",
       " 2,\n",
       " 3,\n",
       " 5,\n",
       " 11,\n",
       " 14,\n",
       " 17,\n",
       " 20,\n",
       " 16,\n",
       " 13,\n",
       " 11,\n",
       " 6,\n",
       " 3,\n",
       " 13,\n",
       " 7,\n",
       " 20,\n",
       " 7,\n",
       " 3,\n",
       " 4,\n",
       " 13,\n",
       " 14,\n",
       " 8,\n",
       " 8,\n",
       " 1,\n",
       " 13,\n",
       " 17,\n",
       " 5,\n",
       " 12,\n",
       " 5,\n",
       " 7,\n",
       " 3,\n",
       " 3,\n",
       " 19,\n",
       " 18,\n",
       " 20,\n",
       " 18,\n",
       " 6,\n",
       " 20,\n",
       " 7,\n",
       " 1,\n",
       " 8,\n",
       " 10,\n",
       " 8,\n",
       " 4,\n",
       " 9,\n",
       " 12,\n",
       " 20,\n",
       " 1,\n",
       " 2,\n",
       " 11,\n",
       " 18,\n",
       " 16,\n",
       " 1,\n",
       " 8,\n",
       " 2,\n",
       " 5,\n",
       " 18,\n",
       " 2,\n",
       " 17,\n",
       " 9,\n",
       " 8,\n",
       " 8,\n",
       " 16,\n",
       " 5,\n",
       " 3,\n",
       " 5,\n",
       " 20,\n",
       " 15,\n",
       " 17,\n",
       " 2,\n",
       " 12,\n",
       " 16,\n",
       " 11,\n",
       " 11,\n",
       " 16,\n",
       " 11,\n",
       " 12,\n",
       " 5,\n",
       " 2,\n",
       " 1,\n",
       " 5,\n",
       " 15,\n",
       " 8,\n",
       " 5,\n",
       " 15,\n",
       " 13,\n",
       " 13,\n",
       " 10,\n",
       " 11,\n",
       " 15,\n",
       " 9,\n",
       " 18,\n",
       " 13,\n",
       " 15,\n",
       " 12,\n",
       " 18,\n",
       " 1,\n",
       " 15,\n",
       " 14,\n",
       " 20,\n",
       " 15,\n",
       " 5,\n",
       " 11,\n",
       " 3,\n",
       " 4,\n",
       " 9,\n",
       " 9,\n",
       " 19,\n",
       " 4,\n",
       " 14,\n",
       " 5,\n",
       " 9,\n",
       " 15,\n",
       " 17,\n",
       " 2,\n",
       " 3,\n",
       " 7,\n",
       " 9,\n",
       " 13,\n",
       " 9,\n",
       " 18,\n",
       " 18,\n",
       " 6,\n",
       " 18,\n",
       " 7,\n",
       " 17,\n",
       " 2,\n",
       " 4,\n",
       " 12,\n",
       " 5,\n",
       " 11,\n",
       " 13,\n",
       " 7,\n",
       " 1,\n",
       " 12,\n",
       " 17,\n",
       " 16,\n",
       " 5,\n",
       " 18,\n",
       " 14,\n",
       " 19,\n",
       " 1,\n",
       " 8,\n",
       " 8,\n",
       " 9,\n",
       " 1,\n",
       " 12,\n",
       " 16,\n",
       " 2,\n",
       " 2,\n",
       " 1,\n",
       " 20,\n",
       " 11,\n",
       " 8,\n",
       " 14,\n",
       " 7,\n",
       " 2,\n",
       " 16,\n",
       " 4,\n",
       " 8,\n",
       " 17,\n",
       " 7,\n",
       " 11,\n",
       " 19,\n",
       " 9,\n",
       " 15,\n",
       " 20,\n",
       " 15,\n",
       " 18,\n",
       " 2,\n",
       " 12,\n",
       " 20,\n",
       " 18,\n",
       " 6,\n",
       " 7,\n",
       " 11,\n",
       " 7,\n",
       " 20,\n",
       " 19,\n",
       " 8,\n",
       " 3,\n",
       " 6,\n",
       " 10,\n",
       " 4,\n",
       " 6,\n",
       " 1,\n",
       " 4,\n",
       " 2,\n",
       " 12,\n",
       " 5,\n",
       " 18,\n",
       " 2,\n",
       " 18,\n",
       " 14,\n",
       " 8,\n",
       " 4,\n",
       " 5,\n",
       " 15,\n",
       " 2,\n",
       " 15,\n",
       " 18,\n",
       " 4,\n",
       " 13,\n",
       " 13,\n",
       " 14,\n",
       " 12,\n",
       " 18,\n",
       " 6,\n",
       " 19,\n",
       " 3,\n",
       " 2,\n",
       " 7,\n",
       " 16,\n",
       " 10,\n",
       " 19,\n",
       " 11,\n",
       " 13,\n",
       " 1,\n",
       " 2,\n",
       " 18,\n",
       " 19,\n",
       " 18,\n",
       " 14,\n",
       " 7,\n",
       " 11,\n",
       " 15,\n",
       " 11,\n",
       " 9,\n",
       " 10,\n",
       " 10,\n",
       " 20,\n",
       " 14,\n",
       " 13,\n",
       " 1,\n",
       " 10,\n",
       " 18,\n",
       " 2,\n",
       " 8,\n",
       " 2,\n",
       " 8,\n",
       " 1,\n",
       " 5,\n",
       " 20,\n",
       " 11,\n",
       " 3,\n",
       " 17,\n",
       " 1,\n",
       " 14,\n",
       " 3,\n",
       " 19,\n",
       " 11,\n",
       " 3,\n",
       " 3,\n",
       " 15,\n",
       " 5,\n",
       " 11,\n",
       " 20,\n",
       " 10]"
      ]
     },
     "execution_count": 71,
     "metadata": {},
     "output_type": "execute_result"
    }
   ],
   "source": [
    "choices(population=faces(n_sides=20),\n",
    "        k=1_000)"
   ]
  },
  {
   "cell_type": "code",
   "execution_count": 72,
   "metadata": {
    "slideshow": {
     "slide_type": "slide"
    }
   },
   "outputs": [],
   "source": [
    "# What if we want to cheat by having a weighted die?\n",
    "\n"
   ]
  },
  {
   "cell_type": "code",
   "execution_count": 73,
   "metadata": {
    "slideshow": {
     "slide_type": "notes"
    }
   },
   "outputs": [
    {
     "name": "stdout",
     "output_type": "stream",
     "text": [
      "[1, 2, 3, 2, 1, 2, 2, 4, 4, 2, 3, 1, 2, 1, 1, 1, 1, 1, 2, 3, 2, 4, 4, 2, 3]\n"
     ]
    }
   ],
   "source": [
    "rolls = choices(population=faces(n_sides=4),\n",
    "        weights=[30, 30, 20, 10], \n",
    "        k=25)\n",
    "print(rolls)"
   ]
  },
  {
   "cell_type": "markdown",
   "metadata": {
    "slideshow": {
     "slide_type": "fragment"
    }
   },
   "source": [
    "That is hard to understand the raw numbers. Let's organized them …"
   ]
  },
  {
   "cell_type": "markdown",
   "metadata": {
    "slideshow": {
     "slide_type": "slide"
    }
   },
   "source": [
    "Data Scientists ❤️ counting\n",
    "------\n",
    "\n",
    "Data Science is mostly about counting."
   ]
  },
  {
   "cell_type": "code",
   "execution_count": 74,
   "metadata": {
    "slideshow": {
     "slide_type": "fragment"
    }
   },
   "outputs": [],
   "source": [
    "# Let's count the outcomes of rolls …\n",
    "\n"
   ]
  },
  {
   "cell_type": "code",
   "execution_count": 75,
   "metadata": {
    "slideshow": {
     "slide_type": "notes"
    }
   },
   "outputs": [
    {
     "data": {
      "text/plain": [
       "Counter({1: 8, 2: 9, 3: 4, 4: 4})"
      ]
     },
     "execution_count": 75,
     "metadata": {},
     "output_type": "execute_result"
    }
   ],
   "source": [
    "from collections import Counter\n",
    "\n",
    "Counter(rolls)"
   ]
  },
  {
   "cell_type": "code",
   "execution_count": 76,
   "metadata": {
    "slideshow": {
     "slide_type": "slide"
    }
   },
   "outputs": [],
   "source": [
    "# How could we order the results?\n",
    "\n"
   ]
  },
  {
   "cell_type": "markdown",
   "metadata": {
    "slideshow": {
     "slide_type": "slide"
    }
   },
   "source": [
    "<center><h2>Fun Fact: My dog is named \"Lambda\" 🐶</h2></center>\n",
    "<center><img src=\"images/lambda_dog.jpg\" width=\"70%\"/></center>"
   ]
  },
  {
   "cell_type": "code",
   "execution_count": 77,
   "metadata": {
    "slideshow": {
     "slide_type": "notes"
    }
   },
   "outputs": [],
   "source": [
    "rolls_counts = Counter(rolls)\n",
    "\n",
    "# Sort by faces\n",
    "sorted(rolls_counts.items(), key=lambda x: x[0]) \n",
    "\n",
    "# Sort by counts\n",
    "sorted(rolls_counts.items(), key=lambda x: x[1])\n",
    "\n",
    "# Store the sorted results as a dictionary\n",
    "rolls_counts = dict(sorted(rolls_counts.items(), key=lambda x: x[0]))"
   ]
  },
  {
   "cell_type": "markdown",
   "metadata": {
    "slideshow": {
     "slide_type": "slide"
    }
   },
   "source": [
    "<center><h2>Visualization is an important technique for Data Science</h2></center>"
   ]
  },
  {
   "cell_type": "markdown",
   "metadata": {
    "slideshow": {
     "slide_type": "fragment"
    }
   },
   "source": [
    "Python's visualization is kinda mess. It is a bazaar, not a cathedral. There are many options. Some people say too many options."
   ]
  },
  {
   "cell_type": "markdown",
   "metadata": {
    "slideshow": {
     "slide_type": "fragment"
    }
   },
   "source": [
    "`matplotlib` is the default. "
   ]
  },
  {
   "cell_type": "code",
   "execution_count": 78,
   "metadata": {
    "slideshow": {
     "slide_type": "slide"
    }
   },
   "outputs": [],
   "source": [
    "import matplotlib.pyplot as plt\n",
    "\n",
    "%matplotlib inline"
   ]
  },
  {
   "cell_type": "code",
   "execution_count": 79,
   "metadata": {
    "slideshow": {
     "slide_type": "slide"
    }
   },
   "outputs": [
    {
     "data": {
      "text/plain": [
       "{1: 8, 2: 9, 3: 4, 4: 4}"
      ]
     },
     "execution_count": 79,
     "metadata": {},
     "output_type": "execute_result"
    }
   ],
   "source": [
    "# How should we plot these?\n",
    "rolls_counts"
   ]
  },
  {
   "cell_type": "code",
   "execution_count": 80,
   "metadata": {
    "slideshow": {
     "slide_type": "fragment"
    }
   },
   "outputs": [
    {
     "data": {
      "image/png": "[encoded data removed]",
      "text/plain": [
       "<Figure size 432x288 with 1 Axes>"
      ]
     },
     "metadata": {
      "needs_background": "light"
     },
     "output_type": "display_data"
    }
   ],
   "source": [
    "# Let's plot the value\n",
    "plt.bar(x=rolls_counts.keys(), \n",
    "        height=rolls_counts.values());"
   ]
  },
  {
   "cell_type": "markdown",
   "metadata": {
    "slideshow": {
     "slide_type": "slide"
    }
   },
   "source": [
    "<center><h2>Any questions?</h2></center>"
   ]
  },
  {
   "cell_type": "code",
   "execution_count": 81,
   "metadata": {
    "slideshow": {
     "slide_type": "slide"
    }
   },
   "outputs": [],
   "source": [
    "# Let's create a function for rolling a pair of dice 🎲 🎲\n"
   ]
  },
  {
   "cell_type": "code",
   "execution_count": 82,
   "metadata": {
    "slideshow": {
     "slide_type": "notes"
    }
   },
   "outputs": [],
   "source": [
    "roll_2_dice = (lambda: choices(population=faces(n_sides=6), k=2))"
   ]
  },
  {
   "cell_type": "code",
   "execution_count": 83,
   "metadata": {
    "slideshow": {
     "slide_type": "fragment"
    }
   },
   "outputs": [
    {
     "data": {
      "text/plain": [
       "[5, 3]"
      ]
     },
     "execution_count": 83,
     "metadata": {},
     "output_type": "execute_result"
    }
   ],
   "source": [
    "roll_2_dice()"
   ]
  },
  {
   "cell_type": "code",
   "execution_count": 84,
   "metadata": {
    "slideshow": {
     "slide_type": "fragment"
    }
   },
   "outputs": [],
   "source": [
    "# How could we add up the two dice?\n"
   ]
  },
  {
   "cell_type": "code",
   "execution_count": 85,
   "metadata": {
    "slideshow": {
     "slide_type": "notes"
    }
   },
   "outputs": [
    {
     "data": {
      "text/plain": [
       "7"
      ]
     },
     "execution_count": 85,
     "metadata": {},
     "output_type": "execute_result"
    }
   ],
   "source": [
    "sum(roll_2_dice())"
   ]
  },
  {
   "cell_type": "code",
   "execution_count": 86,
   "metadata": {
    "slideshow": {
     "slide_type": "slide"
    }
   },
   "outputs": [],
   "source": [
    "# How would we simulate roll a pair many times and tracking the outcomes?\n"
   ]
  },
  {
   "cell_type": "code",
   "execution_count": 87,
   "metadata": {
    "slideshow": {
     "slide_type": "notes"
    }
   },
   "outputs": [],
   "source": [
    "rolls = [sum(roll_2_dice()) for _ in range(50_0000)]"
   ]
  },
  {
   "cell_type": "code",
   "execution_count": 88,
   "metadata": {
    "slideshow": {
     "slide_type": "slide"
    }
   },
   "outputs": [],
   "source": [
    "# Let's count those outcomes\n",
    "rolls_counts = Counter(rolls)"
   ]
  },
  {
   "cell_type": "code",
   "execution_count": 89,
   "metadata": {
    "slideshow": {
     "slide_type": "slide"
    }
   },
   "outputs": [
    {
     "data": {
      "image/png": "[encoded data removed]",
      "text/plain": [
       "<Figure size 432x288 with 1 Axes>"
      ]
     },
     "metadata": {
      "needs_background": "light"
     },
     "output_type": "display_data"
    }
   ],
   "source": [
    "# Plot the outcome of simulating many dice rolling\n",
    "labels, values = zip(*rolls_counts.items()) # Unpack dict\n",
    "plt.bar(x=labels, \n",
    "        height=values);"
   ]
  },
  {
   "cell_type": "markdown",
   "metadata": {
    "slideshow": {
     "slide_type": "slide"
    }
   },
   "source": [
    "Let's explore the properties of those counts\n",
    "----"
   ]
  },
  {
   "cell_type": "code",
   "execution_count": 90,
   "metadata": {
    "slideshow": {
     "slide_type": "slide"
    }
   },
   "outputs": [],
   "source": [
    "# What is the most frequency outcome?"
   ]
  },
  {
   "cell_type": "code",
   "execution_count": 91,
   "metadata": {
    "slideshow": {
     "slide_type": "fragment"
    }
   },
   "outputs": [
    {
     "data": {
      "text/plain": [
       "[(7, 83628)]"
      ]
     },
     "execution_count": 91,
     "metadata": {},
     "output_type": "execute_result"
    }
   ],
   "source": [
    "rolls_counts.most_common(n=1)"
   ]
  },
  {
   "cell_type": "code",
   "execution_count": 92,
   "metadata": {
    "slideshow": {
     "slide_type": "fragment"
    }
   },
   "outputs": [],
   "source": [
    "# If you roll two dice, how likely is it that your sum is greater than 7"
   ]
  },
  {
   "cell_type": "code",
   "execution_count": 93,
   "metadata": {
    "slideshow": {
     "slide_type": "fragment"
    }
   },
   "outputs": [
    {
     "data": {
      "text/plain": [
       "0.41554"
      ]
     },
     "execution_count": 93,
     "metadata": {},
     "output_type": "execute_result"
    }
   ],
   "source": [
    "sum(v for k, v in  rolls_counts.items() if k > 7) / sum(rolls_counts.values())"
   ]
  },
  {
   "cell_type": "code",
   "execution_count": 94,
   "metadata": {
    "slideshow": {
     "slide_type": "fragment"
    }
   },
   "outputs": [
    {
     "data": {
      "text/plain": [
       "0.4166666666666667"
      ]
     },
     "execution_count": 94,
     "metadata": {},
     "output_type": "execute_result"
    }
   ],
   "source": [
    "# The analytical solution: 15 ways of rolling greate 7 out of possible 36\n",
    "15/36"
   ]
  },
  {
   "cell_type": "code",
   "execution_count": 95,
   "metadata": {
    "slideshow": {
     "slide_type": "slide"
    }
   },
   "outputs": [],
   "source": [
    "# How could we sample from the emperical distribution?"
   ]
  },
  {
   "cell_type": "code",
   "execution_count": 96,
   "metadata": {
    "slideshow": {
     "slide_type": "fragment"
    }
   },
   "outputs": [
    {
     "ename": "SyntaxError",
     "evalue": "invalid syntax (<ipython-input-96-d2c1e3b32a85>, line 1)",
     "output_type": "error",
     "traceback": [
      "\u001b[0;36m  File \u001b[0;32m\"<ipython-input-96-d2c1e3b32a85>\"\u001b[0;36m, line \u001b[0;32m1\u001b[0m\n\u001b[0;31m    rolls_counts.elements()?\u001b[0m\n\u001b[0m                           ^\u001b[0m\n\u001b[0;31mSyntaxError\u001b[0m\u001b[0;31m:\u001b[0m invalid syntax\n"
     ]
    }
   ],
   "source": [
    "rolls_counts.elements()?"
   ]
  },
  {
   "cell_type": "code",
   "execution_count": null,
   "metadata": {
    "slideshow": {
     "slide_type": "fragment"
    }
   },
   "outputs": [],
   "source": [
    "from random import sample\n",
    "\n",
    "sample(population=list(rolls_counts.elements()), k=10)"
   ]
  },
  {
   "cell_type": "markdown",
   "metadata": {
    "slideshow": {
     "slide_type": "slide"
    }
   },
   "source": [
    "Review\n",
    "------\n",
    "\n",
    "- Using Python, we can:\n",
    "    - Define discrete outcomes\n",
    "    - Simulate the results of those outcomes\n",
    "    - Organized and present the results"
   ]
  },
  {
   "cell_type": "markdown",
   "metadata": {
    "slideshow": {
     "slide_type": "fragment"
    }
   },
   "source": [
    "- We have use most of the common tools of Data Science:\n",
    "    - Probability\n",
    "    - Counting\n",
    "    - Sorting\n",
    "    - Visualization\n"
   ]
  },
  {
   "cell_type": "markdown",
   "metadata": {
    "slideshow": {
     "slide_type": "slide"
    }
   },
   "source": [
    "  "
   ]
  },
  {
   "cell_type": "markdown",
   "metadata": {
    "slideshow": {
     "slide_type": "notes"
    }
   },
   "source": [
    "References\n",
    "----\n",
    "\n",
    "- [Python's Standard Library Examples for random module](https://docs.python.org/3/library/random.html#examples-and-recipes)\n",
    "- Raymond Hettinger's _Modern Python: Big Ideas and Little Code in Python_\n",
    "    - [Video](https://www.amazon.com/Lesson-Implementing-k-means-Unsupervised-Learning/dp/B0782H9R1B)\n",
    "    - [Code](https://github.com/rhettinger/modernpython)\n",
    "\n"
   ]
  }
 ],
 "metadata": {
  "celltoolbar": "Slideshow",
  "kernelspec": {
   "display_name": "Python 3",
   "language": "python",
   "name": "python3"
  },
  "language_info": {
   "codemirror_mode": {
    "name": "ipython",
    "version": 3
   },
   "file_extension": ".py",
   "mimetype": "text/x-python",
   "name": "python",
   "nbconvert_exporter": "python",
   "pygments_lexer": "ipython3",
   "version": "3.7.2"
  }
 },
 "nbformat": 4,
 "nbformat_minor": 2
}
