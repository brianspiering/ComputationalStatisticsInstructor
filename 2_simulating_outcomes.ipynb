{
 "cells": [
  {
   "cell_type": "markdown",
   "metadata": {
    "slideshow": {
     "slide_type": "slide"
    }
   },
   "source": [
    "Computational Take on Statistics: Simulating Outcomes\n",
    "========"
   ]
  },
  {
   "cell_type": "markdown",
   "metadata": {
    "slideshow": {
     "slide_type": "slide"
    }
   },
   "source": [
    "What we'll be doing\n",
    "-------\n",
    "\n",
    "- Learn to use Python's `random` module\n",
    "- Simulating probabilities to common events"
   ]
  },
  {
   "cell_type": "code",
   "execution_count": 9,
   "metadata": {
    "slideshow": {
     "slide_type": "notes"
    }
   },
   "outputs": [],
   "source": [
    "reset -fs"
   ]
  },
  {
   "cell_type": "code",
   "execution_count": 10,
   "metadata": {
    "slideshow": {
     "slide_type": "slide"
    }
   },
   "outputs": [],
   "source": [
    "# Python's random generates pseudo-random numbers\n",
    "# from random import "
   ]
  },
  {
   "cell_type": "code",
   "execution_count": 11,
   "metadata": {
    "slideshow": {
     "slide_type": "fragment"
    }
   },
   "outputs": [],
   "source": [
    "# Import a function that chooses amoung discrete outcomes\n",
    "from random import choice"
   ]
  },
  {
   "cell_type": "code",
   "execution_count": 12,
   "metadata": {
    "slideshow": {
     "slide_type": "slide"
    }
   },
   "outputs": [],
   "source": [
    "choice?"
   ]
  },
  {
   "cell_type": "code",
   "execution_count": 13,
   "metadata": {
    "slideshow": {
     "slide_type": "slide"
    }
   },
   "outputs": [
    {
     "data": {
      "text/plain": [
       "3"
      ]
     },
     "execution_count": 13,
     "metadata": {},
     "output_type": "execute_result"
    }
   ],
   "source": [
    "# Roll a die\n",
    "choice([1, 2, 3, 4, 5, 6])"
   ]
  },
  {
   "cell_type": "markdown",
   "metadata": {
    "slideshow": {
     "slide_type": "fragment"
    }
   },
   "source": [
    "How could we roll a 4-sided die? or a 20-sided die?"
   ]
  },
  {
   "cell_type": "code",
   "execution_count": 14,
   "metadata": {
    "slideshow": {
     "slide_type": "slide"
    }
   },
   "outputs": [],
   "source": [
    "# Let's create a variable for number of sides"
   ]
  },
  {
   "cell_type": "code",
   "execution_count": 15,
   "metadata": {
    "slideshow": {
     "slide_type": "notes"
    }
   },
   "outputs": [
    {
     "data": {
      "text/plain": [
       "5"
      ]
     },
     "execution_count": 15,
     "metadata": {},
     "output_type": "execute_result"
    }
   ],
   "source": [
    "# Traditional die: A cube\n",
    "n_sides = 6\n",
    "faces = list(range(1, n_sides+1)) \n",
    "choice(faces)"
   ]
  },
  {
   "cell_type": "markdown",
   "metadata": {
    "slideshow": {
     "slide_type": "slide"
    }
   },
   "source": [
    "That is a lot of typing. Let's make a function:"
   ]
  },
  {
   "cell_type": "code",
   "execution_count": null,
   "metadata": {
    "slideshow": {
     "slide_type": "fragment"
    }
   },
   "outputs": [],
   "source": []
  },
  {
   "cell_type": "code",
   "execution_count": 16,
   "metadata": {
    "slideshow": {
     "slide_type": "notes"
    }
   },
   "outputs": [],
   "source": [
    "from typing import List\n",
    "\n",
    "def faces(n_sides: int) -> List[int]:\n",
    "    \"Enumerate the faces of a die\"\n",
    "    return list(range(1, n_sides+1))"
   ]
  },
  {
   "cell_type": "code",
   "execution_count": 17,
   "metadata": {
    "slideshow": {
     "slide_type": "fragment"
    }
   },
   "outputs": [],
   "source": [
    "faces?"
   ]
  },
  {
   "cell_type": "code",
   "execution_count": 18,
   "metadata": {
    "slideshow": {
     "slide_type": "slide"
    }
   },
   "outputs": [
    {
     "data": {
      "text/plain": [
       "16"
      ]
     },
     "execution_count": 18,
     "metadata": {},
     "output_type": "execute_result"
    }
   ],
   "source": [
    "# Roll a 20-sided die\n",
    "choice(faces(n_sides=20))"
   ]
  },
  {
   "cell_type": "markdown",
   "metadata": {
    "slideshow": {
     "slide_type": "slide"
    }
   },
   "source": [
    "What if we want to roll more than one die?"
   ]
  },
  {
   "cell_type": "code",
   "execution_count": 19,
   "metadata": {
    "slideshow": {
     "slide_type": "fragment"
    }
   },
   "outputs": [],
   "source": [
    "from random import choices\n",
    "\n",
    "choices?"
   ]
  },
  {
   "cell_type": "markdown",
   "metadata": {
    "slideshow": {
     "slide_type": "fragment"
    }
   },
   "source": [
    "Let's check out the documentation for [random.choices](https://docs.python.org/3/library/random.html)"
   ]
  },
  {
   "cell_type": "code",
   "execution_count": 20,
   "metadata": {
    "slideshow": {
     "slide_type": "slide"
    }
   },
   "outputs": [
    {
     "data": {
      "text/plain": [
       "[5, 1]"
      ]
     },
     "execution_count": 20,
     "metadata": {},
     "output_type": "execute_result"
    }
   ],
   "source": [
    "# Let's roll our die a couple of times\n",
    "choices(population=faces(n_sides=6),\n",
    "        k=2)"
   ]
  },
  {
   "cell_type": "code",
   "execution_count": null,
   "metadata": {
    "slideshow": {
     "slide_type": "slide"
    }
   },
   "outputs": [],
   "source": [
    "# How could we roll a 20-sided die 1,000 times?\n",
    "\n"
   ]
  },
  {
   "cell_type": "code",
   "execution_count": 21,
   "metadata": {
    "slideshow": {
     "slide_type": "notes"
    }
   },
   "outputs": [
    {
     "data": {
      "text/plain": [
       "[11,\n",
       " 17,\n",
       " 8,\n",
       " 10,\n",
       " 15,\n",
       " 19,\n",
       " 2,\n",
       " 3,\n",
       " 13,\n",
       " 12,\n",
       " 16,\n",
       " 20,\n",
       " 9,\n",
       " 1,\n",
       " 1,\n",
       " 19,\n",
       " 3,\n",
       " 13,\n",
       " 9,\n",
       " 8,\n",
       " 5,\n",
       " 9,\n",
       " 1,\n",
       " 4,\n",
       " 8,\n",
       " 19,\n",
       " 12,\n",
       " 8,\n",
       " 3,\n",
       " 2,\n",
       " 3,\n",
       " 15,\n",
       " 9,\n",
       " 11,\n",
       " 17,\n",
       " 7,\n",
       " 3,\n",
       " 1,\n",
       " 17,\n",
       " 19,\n",
       " 2,\n",
       " 20,\n",
       " 14,\n",
       " 13,\n",
       " 10,\n",
       " 16,\n",
       " 15,\n",
       " 19,\n",
       " 9,\n",
       " 4,\n",
       " 15,\n",
       " 13,\n",
       " 13,\n",
       " 12,\n",
       " 14,\n",
       " 20,\n",
       " 15,\n",
       " 9,\n",
       " 5,\n",
       " 1,\n",
       " 15,\n",
       " 11,\n",
       " 4,\n",
       " 17,\n",
       " 15,\n",
       " 7,\n",
       " 19,\n",
       " 8,\n",
       " 19,\n",
       " 3,\n",
       " 17,\n",
       " 19,\n",
       " 20,\n",
       " 13,\n",
       " 9,\n",
       " 8,\n",
       " 18,\n",
       " 5,\n",
       " 19,\n",
       " 6,\n",
       " 3,\n",
       " 14,\n",
       " 1,\n",
       " 19,\n",
       " 12,\n",
       " 4,\n",
       " 7,\n",
       " 12,\n",
       " 17,\n",
       " 14,\n",
       " 3,\n",
       " 18,\n",
       " 11,\n",
       " 5,\n",
       " 16,\n",
       " 9,\n",
       " 7,\n",
       " 16,\n",
       " 8,\n",
       " 12,\n",
       " 2,\n",
       " 5,\n",
       " 7,\n",
       " 11,\n",
       " 5,\n",
       " 19,\n",
       " 17,\n",
       " 7,\n",
       " 13,\n",
       " 19,\n",
       " 16,\n",
       " 19,\n",
       " 18,\n",
       " 1,\n",
       " 16,\n",
       " 20,\n",
       " 10,\n",
       " 9,\n",
       " 11,\n",
       " 9,\n",
       " 6,\n",
       " 10,\n",
       " 16,\n",
       " 7,\n",
       " 19,\n",
       " 3,\n",
       " 4,\n",
       " 11,\n",
       " 3,\n",
       " 9,\n",
       " 17,\n",
       " 19,\n",
       " 12,\n",
       " 18,\n",
       " 10,\n",
       " 17,\n",
       " 6,\n",
       " 3,\n",
       " 4,\n",
       " 9,\n",
       " 17,\n",
       " 1,\n",
       " 14,\n",
       " 3,\n",
       " 12,\n",
       " 2,\n",
       " 15,\n",
       " 9,\n",
       " 17,\n",
       " 4,\n",
       " 12,\n",
       " 4,\n",
       " 10,\n",
       " 15,\n",
       " 13,\n",
       " 20,\n",
       " 20,\n",
       " 8,\n",
       " 19,\n",
       " 3,\n",
       " 10,\n",
       " 15,\n",
       " 6,\n",
       " 18,\n",
       " 15,\n",
       " 16,\n",
       " 3,\n",
       " 16,\n",
       " 17,\n",
       " 17,\n",
       " 16,\n",
       " 10,\n",
       " 2,\n",
       " 4,\n",
       " 3,\n",
       " 11,\n",
       " 7,\n",
       " 7,\n",
       " 9,\n",
       " 17,\n",
       " 8,\n",
       " 11,\n",
       " 20,\n",
       " 20,\n",
       " 12,\n",
       " 16,\n",
       " 1,\n",
       " 9,\n",
       " 4,\n",
       " 5,\n",
       " 9,\n",
       " 8,\n",
       " 11,\n",
       " 18,\n",
       " 14,\n",
       " 12,\n",
       " 6,\n",
       " 13,\n",
       " 11,\n",
       " 14,\n",
       " 6,\n",
       " 13,\n",
       " 16,\n",
       " 1,\n",
       " 5,\n",
       " 2,\n",
       " 12,\n",
       " 14,\n",
       " 1,\n",
       " 4,\n",
       " 16,\n",
       " 1,\n",
       " 15,\n",
       " 12,\n",
       " 2,\n",
       " 16,\n",
       " 19,\n",
       " 12,\n",
       " 7,\n",
       " 5,\n",
       " 19,\n",
       " 14,\n",
       " 15,\n",
       " 10,\n",
       " 3,\n",
       " 2,\n",
       " 10,\n",
       " 1,\n",
       " 9,\n",
       " 9,\n",
       " 4,\n",
       " 3,\n",
       " 11,\n",
       " 11,\n",
       " 1,\n",
       " 20,\n",
       " 9,\n",
       " 2,\n",
       " 10,\n",
       " 12,\n",
       " 5,\n",
       " 15,\n",
       " 12,\n",
       " 18,\n",
       " 2,\n",
       " 4,\n",
       " 3,\n",
       " 4,\n",
       " 20,\n",
       " 3,\n",
       " 9,\n",
       " 6,\n",
       " 7,\n",
       " 12,\n",
       " 12,\n",
       " 3,\n",
       " 15,\n",
       " 8,\n",
       " 8,\n",
       " 14,\n",
       " 11,\n",
       " 17,\n",
       " 11,\n",
       " 4,\n",
       " 10,\n",
       " 7,\n",
       " 8,\n",
       " 19,\n",
       " 3,\n",
       " 17,\n",
       " 8,\n",
       " 19,\n",
       " 14,\n",
       " 11,\n",
       " 6,\n",
       " 11,\n",
       " 18,\n",
       " 4,\n",
       " 15,\n",
       " 19,\n",
       " 3,\n",
       " 19,\n",
       " 8,\n",
       " 19,\n",
       " 1,\n",
       " 15,\n",
       " 7,\n",
       " 15,\n",
       " 13,\n",
       " 3,\n",
       " 12,\n",
       " 20,\n",
       " 15,\n",
       " 1,\n",
       " 5,\n",
       " 9,\n",
       " 19,\n",
       " 15,\n",
       " 19,\n",
       " 14,\n",
       " 19,\n",
       " 6,\n",
       " 5,\n",
       " 9,\n",
       " 11,\n",
       " 16,\n",
       " 4,\n",
       " 1,\n",
       " 6,\n",
       " 3,\n",
       " 1,\n",
       " 18,\n",
       " 11,\n",
       " 18,\n",
       " 13,\n",
       " 2,\n",
       " 2,\n",
       " 6,\n",
       " 7,\n",
       " 19,\n",
       " 18,\n",
       " 11,\n",
       " 1,\n",
       " 11,\n",
       " 7,\n",
       " 18,\n",
       " 6,\n",
       " 3,\n",
       " 15,\n",
       " 1,\n",
       " 4,\n",
       " 2,\n",
       " 13,\n",
       " 2,\n",
       " 3,\n",
       " 9,\n",
       " 17,\n",
       " 6,\n",
       " 11,\n",
       " 2,\n",
       " 4,\n",
       " 13,\n",
       " 15,\n",
       " 18,\n",
       " 16,\n",
       " 16,\n",
       " 10,\n",
       " 19,\n",
       " 11,\n",
       " 1,\n",
       " 7,\n",
       " 19,\n",
       " 17,\n",
       " 1,\n",
       " 20,\n",
       " 10,\n",
       " 13,\n",
       " 1,\n",
       " 4,\n",
       " 12,\n",
       " 7,\n",
       " 9,\n",
       " 13,\n",
       " 8,\n",
       " 7,\n",
       " 3,\n",
       " 2,\n",
       " 2,\n",
       " 17,\n",
       " 1,\n",
       " 2,\n",
       " 11,\n",
       " 11,\n",
       " 12,\n",
       " 15,\n",
       " 10,\n",
       " 2,\n",
       " 19,\n",
       " 18,\n",
       " 15,\n",
       " 16,\n",
       " 3,\n",
       " 9,\n",
       " 3,\n",
       " 6,\n",
       " 3,\n",
       " 4,\n",
       " 18,\n",
       " 11,\n",
       " 7,\n",
       " 5,\n",
       " 16,\n",
       " 18,\n",
       " 9,\n",
       " 6,\n",
       " 1,\n",
       " 10,\n",
       " 2,\n",
       " 19,\n",
       " 13,\n",
       " 20,\n",
       " 9,\n",
       " 8,\n",
       " 6,\n",
       " 14,\n",
       " 11,\n",
       " 16,\n",
       " 18,\n",
       " 11,\n",
       " 12,\n",
       " 3,\n",
       " 19,\n",
       " 1,\n",
       " 16,\n",
       " 17,\n",
       " 4,\n",
       " 8,\n",
       " 15,\n",
       " 2,\n",
       " 8,\n",
       " 10,\n",
       " 3,\n",
       " 7,\n",
       " 18,\n",
       " 4,\n",
       " 17,\n",
       " 13,\n",
       " 13,\n",
       " 9,\n",
       " 6,\n",
       " 20,\n",
       " 12,\n",
       " 9,\n",
       " 16,\n",
       " 1,\n",
       " 18,\n",
       " 9,\n",
       " 15,\n",
       " 11,\n",
       " 9,\n",
       " 4,\n",
       " 2,\n",
       " 18,\n",
       " 9,\n",
       " 19,\n",
       " 14,\n",
       " 17,\n",
       " 6,\n",
       " 5,\n",
       " 18,\n",
       " 9,\n",
       " 14,\n",
       " 14,\n",
       " 13,\n",
       " 12,\n",
       " 11,\n",
       " 11,\n",
       " 14,\n",
       " 19,\n",
       " 20,\n",
       " 3,\n",
       " 9,\n",
       " 19,\n",
       " 1,\n",
       " 20,\n",
       " 8,\n",
       " 19,\n",
       " 19,\n",
       " 5,\n",
       " 9,\n",
       " 1,\n",
       " 15,\n",
       " 11,\n",
       " 8,\n",
       " 1,\n",
       " 15,\n",
       " 11,\n",
       " 5,\n",
       " 3,\n",
       " 7,\n",
       " 7,\n",
       " 13,\n",
       " 19,\n",
       " 10,\n",
       " 11,\n",
       " 17,\n",
       " 10,\n",
       " 3,\n",
       " 11,\n",
       " 17,\n",
       " 19,\n",
       " 20,\n",
       " 7,\n",
       " 2,\n",
       " 2,\n",
       " 2,\n",
       " 9,\n",
       " 2,\n",
       " 17,\n",
       " 3,\n",
       " 14,\n",
       " 18,\n",
       " 15,\n",
       " 4,\n",
       " 18,\n",
       " 20,\n",
       " 3,\n",
       " 9,\n",
       " 17,\n",
       " 6,\n",
       " 2,\n",
       " 18,\n",
       " 17,\n",
       " 2,\n",
       " 19,\n",
       " 13,\n",
       " 11,\n",
       " 2,\n",
       " 2,\n",
       " 15,\n",
       " 4,\n",
       " 16,\n",
       " 16,\n",
       " 15,\n",
       " 1,\n",
       " 15,\n",
       " 3,\n",
       " 8,\n",
       " 13,\n",
       " 1,\n",
       " 17,\n",
       " 15,\n",
       " 20,\n",
       " 1,\n",
       " 20,\n",
       " 1,\n",
       " 10,\n",
       " 18,\n",
       " 2,\n",
       " 18,\n",
       " 11,\n",
       " 6,\n",
       " 3,\n",
       " 2,\n",
       " 3,\n",
       " 19,\n",
       " 16,\n",
       " 1,\n",
       " 10,\n",
       " 4,\n",
       " 7,\n",
       " 10,\n",
       " 18,\n",
       " 7,\n",
       " 7,\n",
       " 20,\n",
       " 7,\n",
       " 19,\n",
       " 5,\n",
       " 18,\n",
       " 16,\n",
       " 17,\n",
       " 14,\n",
       " 16,\n",
       " 15,\n",
       " 12,\n",
       " 4,\n",
       " 8,\n",
       " 20,\n",
       " 11,\n",
       " 13,\n",
       " 13,\n",
       " 2,\n",
       " 17,\n",
       " 12,\n",
       " 12,\n",
       " 20,\n",
       " 13,\n",
       " 1,\n",
       " 15,\n",
       " 10,\n",
       " 4,\n",
       " 7,\n",
       " 10,\n",
       " 19,\n",
       " 20,\n",
       " 9,\n",
       " 20,\n",
       " 10,\n",
       " 7,\n",
       " 1,\n",
       " 2,\n",
       " 9,\n",
       " 15,\n",
       " 2,\n",
       " 16,\n",
       " 1,\n",
       " 19,\n",
       " 4,\n",
       " 5,\n",
       " 2,\n",
       " 1,\n",
       " 9,\n",
       " 9,\n",
       " 7,\n",
       " 13,\n",
       " 5,\n",
       " 1,\n",
       " 20,\n",
       " 14,\n",
       " 14,\n",
       " 12,\n",
       " 13,\n",
       " 3,\n",
       " 5,\n",
       " 5,\n",
       " 19,\n",
       " 11,\n",
       " 19,\n",
       " 10,\n",
       " 14,\n",
       " 1,\n",
       " 15,\n",
       " 1,\n",
       " 15,\n",
       " 18,\n",
       " 20,\n",
       " 2,\n",
       " 18,\n",
       " 3,\n",
       " 10,\n",
       " 10,\n",
       " 4,\n",
       " 19,\n",
       " 17,\n",
       " 1,\n",
       " 19,\n",
       " 16,\n",
       " 14,\n",
       " 6,\n",
       " 4,\n",
       " 6,\n",
       " 17,\n",
       " 15,\n",
       " 6,\n",
       " 6,\n",
       " 7,\n",
       " 16,\n",
       " 12,\n",
       " 9,\n",
       " 3,\n",
       " 3,\n",
       " 17,\n",
       " 4,\n",
       " 4,\n",
       " 14,\n",
       " 13,\n",
       " 6,\n",
       " 13,\n",
       " 20,\n",
       " 4,\n",
       " 20,\n",
       " 8,\n",
       " 4,\n",
       " 8,\n",
       " 12,\n",
       " 6,\n",
       " 3,\n",
       " 18,\n",
       " 5,\n",
       " 5,\n",
       " 14,\n",
       " 3,\n",
       " 16,\n",
       " 8,\n",
       " 11,\n",
       " 11,\n",
       " 4,\n",
       " 2,\n",
       " 7,\n",
       " 5,\n",
       " 19,\n",
       " 9,\n",
       " 1,\n",
       " 14,\n",
       " 15,\n",
       " 7,\n",
       " 11,\n",
       " 18,\n",
       " 12,\n",
       " 20,\n",
       " 17,\n",
       " 16,\n",
       " 11,\n",
       " 8,\n",
       " 15,\n",
       " 17,\n",
       " 12,\n",
       " 16,\n",
       " 8,\n",
       " 18,\n",
       " 8,\n",
       " 8,\n",
       " 13,\n",
       " 17,\n",
       " 14,\n",
       " 1,\n",
       " 16,\n",
       " 10,\n",
       " 5,\n",
       " 4,\n",
       " 1,\n",
       " 5,\n",
       " 14,\n",
       " 11,\n",
       " 17,\n",
       " 1,\n",
       " 2,\n",
       " 2,\n",
       " 3,\n",
       " 11,\n",
       " 17,\n",
       " 7,\n",
       " 10,\n",
       " 10,\n",
       " 15,\n",
       " 4,\n",
       " 13,\n",
       " 11,\n",
       " 20,\n",
       " 15,\n",
       " 18,\n",
       " 11,\n",
       " 18,\n",
       " 2,\n",
       " 15,\n",
       " 14,\n",
       " 8,\n",
       " 3,\n",
       " 19,\n",
       " 12,\n",
       " 1,\n",
       " 20,\n",
       " 16,\n",
       " 14,\n",
       " 15,\n",
       " 20,\n",
       " 1,\n",
       " 12,\n",
       " 15,\n",
       " 7,\n",
       " 18,\n",
       " 16,\n",
       " 15,\n",
       " 19,\n",
       " 17,\n",
       " 16,\n",
       " 7,\n",
       " 19,\n",
       " 13,\n",
       " 13,\n",
       " 17,\n",
       " 9,\n",
       " 14,\n",
       " 10,\n",
       " 15,\n",
       " 3,\n",
       " 2,\n",
       " 11,\n",
       " 3,\n",
       " 9,\n",
       " 10,\n",
       " 15,\n",
       " 20,\n",
       " 20,\n",
       " 10,\n",
       " 6,\n",
       " 10,\n",
       " 4,\n",
       " 18,\n",
       " 11,\n",
       " 7,\n",
       " 17,\n",
       " 11,\n",
       " 10,\n",
       " 11,\n",
       " 15,\n",
       " 20,\n",
       " 6,\n",
       " 18,\n",
       " 13,\n",
       " 16,\n",
       " 19,\n",
       " 7,\n",
       " 14,\n",
       " 8,\n",
       " 12,\n",
       " 12,\n",
       " 9,\n",
       " 6,\n",
       " 4,\n",
       " 2,\n",
       " 10,\n",
       " 12,\n",
       " 12,\n",
       " 19,\n",
       " 13,\n",
       " 15,\n",
       " 5,\n",
       " 2,\n",
       " 16,\n",
       " 3,\n",
       " 5,\n",
       " 15,\n",
       " 11,\n",
       " 17,\n",
       " 6,\n",
       " 3,\n",
       " 10,\n",
       " 19,\n",
       " 7,\n",
       " 9,\n",
       " 3,\n",
       " 19,\n",
       " 18,\n",
       " 1,\n",
       " 11,\n",
       " 20,\n",
       " 4,\n",
       " 19,\n",
       " 19,\n",
       " 13,\n",
       " 17,\n",
       " 7,\n",
       " 11,\n",
       " 20,\n",
       " 18,\n",
       " 7,\n",
       " 16,\n",
       " 9,\n",
       " 3,\n",
       " 16,\n",
       " 6,\n",
       " 20,\n",
       " 16,\n",
       " 4,\n",
       " 18,\n",
       " 11,\n",
       " 15,\n",
       " 7,\n",
       " 20,\n",
       " 7,\n",
       " 14,\n",
       " 9,\n",
       " 19,\n",
       " 20,\n",
       " 2,\n",
       " 11,\n",
       " 4,\n",
       " 16,\n",
       " 16,\n",
       " 3,\n",
       " 4,\n",
       " 8,\n",
       " 5,\n",
       " 9,\n",
       " 2,\n",
       " 8,\n",
       " 13,\n",
       " 2,\n",
       " 6,\n",
       " 18,\n",
       " 3,\n",
       " 3,\n",
       " 9,\n",
       " 8,\n",
       " 10,\n",
       " 3,\n",
       " 1,\n",
       " 17,\n",
       " 1,\n",
       " 20,\n",
       " 11,\n",
       " 7,\n",
       " 14,\n",
       " 3,\n",
       " 6,\n",
       " 6,\n",
       " 8,\n",
       " 13,\n",
       " 7,\n",
       " 7,\n",
       " 12,\n",
       " 14,\n",
       " 15,\n",
       " 18,\n",
       " 3,\n",
       " 4,\n",
       " 2,\n",
       " 1,\n",
       " 16,\n",
       " 14,\n",
       " 11,\n",
       " 5,\n",
       " 19,\n",
       " 12,\n",
       " 3,\n",
       " 9,\n",
       " 18,\n",
       " 6,\n",
       " 14,\n",
       " 9,\n",
       " 19,\n",
       " 8,\n",
       " 1,\n",
       " 11,\n",
       " 14,\n",
       " 20,\n",
       " 18,\n",
       " 14,\n",
       " 13,\n",
       " 18,\n",
       " 4,\n",
       " 18,\n",
       " 9,\n",
       " 1,\n",
       " 9,\n",
       " 2,\n",
       " 9,\n",
       " 17,\n",
       " 4,\n",
       " 5,\n",
       " 17,\n",
       " 11,\n",
       " 3,\n",
       " 12,\n",
       " 2,\n",
       " 11,\n",
       " 13,\n",
       " 14,\n",
       " 7,\n",
       " 17,\n",
       " 14,\n",
       " 9,\n",
       " 18,\n",
       " 5,\n",
       " 5,\n",
       " 14,\n",
       " 17,\n",
       " 16,\n",
       " 14,\n",
       " 3,\n",
       " 2,\n",
       " 20,\n",
       " 13,\n",
       " 15,\n",
       " 2,\n",
       " 4,\n",
       " 8,\n",
       " 6,\n",
       " 4,\n",
       " 20,\n",
       " 13,\n",
       " 20,\n",
       " 13,\n",
       " 4,\n",
       " 8,\n",
       " 15,\n",
       " 20,\n",
       " 18,\n",
       " 3,\n",
       " 20,\n",
       " 10,\n",
       " 20,\n",
       " 3,\n",
       " 18,\n",
       " 16,\n",
       " 20,\n",
       " 5,\n",
       " 1,\n",
       " 10,\n",
       " 5,\n",
       " 1,\n",
       " 8,\n",
       " 1,\n",
       " 7,\n",
       " 7,\n",
       " 9,\n",
       " 11,\n",
       " 3,\n",
       " 13,\n",
       " 14,\n",
       " 20,\n",
       " 9,\n",
       " 20,\n",
       " 9,\n",
       " 18,\n",
       " 6,\n",
       " 18,\n",
       " 19]"
      ]
     },
     "execution_count": 21,
     "metadata": {},
     "output_type": "execute_result"
    }
   ],
   "source": [
    "choices(population=faces(n_sides=20),\n",
    "        k=1_000)"
   ]
  },
  {
   "cell_type": "code",
   "execution_count": null,
   "metadata": {
    "slideshow": {
     "slide_type": "slide"
    }
   },
   "outputs": [],
   "source": [
    "# What if we want to cheat by having a weighted die?\n",
    "\n"
   ]
  },
  {
   "cell_type": "code",
   "execution_count": 22,
   "metadata": {
    "slideshow": {
     "slide_type": "notes"
    }
   },
   "outputs": [
    {
     "name": "stdout",
     "output_type": "stream",
     "text": [
      "[3, 4, 1, 4, 3, 4, 4, 2, 3, 3, 4, 3, 1, 3, 3, 3, 3, 3, 3, 1, 3, 1, 3, 3, 1]\n"
     ]
    }
   ],
   "source": [
    "rolls = choices(population=faces(n_sides=4),\n",
    "        weights=[10, 5, 30, 5], \n",
    "        k=25)\n",
    "print(rolls)"
   ]
  },
  {
   "cell_type": "markdown",
   "metadata": {
    "slideshow": {
     "slide_type": "slide"
    }
   },
   "source": [
    "Data Scientists ❤️ counting\n",
    "------\n",
    "\n",
    "Data Science is mostly about counting.\n",
    "\n",
    "Let's count our outcomes …"
   ]
  },
  {
   "cell_type": "code",
   "execution_count": null,
   "metadata": {
    "slideshow": {
     "slide_type": "fragment"
    }
   },
   "outputs": [],
   "source": []
  },
  {
   "cell_type": "code",
   "execution_count": 23,
   "metadata": {
    "slideshow": {
     "slide_type": "notes"
    }
   },
   "outputs": [
    {
     "data": {
      "text/plain": [
       "Counter({3: 14, 4: 5, 1: 5, 2: 1})"
      ]
     },
     "execution_count": 23,
     "metadata": {},
     "output_type": "execute_result"
    }
   ],
   "source": [
    "from collections import Counter\n",
    "\n",
    "Counter(rolls)"
   ]
  },
  {
   "cell_type": "markdown",
   "metadata": {
    "slideshow": {
     "slide_type": "slide"
    }
   },
   "source": [
    "How would we order the results?"
   ]
  },
  {
   "cell_type": "code",
   "execution_count": 24,
   "metadata": {
    "slideshow": {
     "slide_type": "notes"
    }
   },
   "outputs": [],
   "source": [
    "rolls_counts = Counter(rolls)\n",
    "# Sort by faces\n",
    "sorted(rolls_counts.items(), key=lambda x: x[0]) \n",
    " # Sort by counts\n",
    "sorted(rolls_counts.items(), key=lambda x: x[1])\n",
    "\n",
    "rolls_counts = dict(sorted(rolls_counts.items(), key=lambda x: x[0]))"
   ]
  },
  {
   "cell_type": "markdown",
   "metadata": {},
   "source": [
    "Data Science is about visualization.\n",
    "\n",
    "Python's visualization is kinda mess. It is a bazaar, not a cathedral. There are many options. Some people would say too many options.\n",
    "\n",
    "`matplotlib` is the default. "
   ]
  },
  {
   "cell_type": "code",
   "execution_count": 25,
   "metadata": {},
   "outputs": [],
   "source": [
    "import matplotlib.pyplot as plt\n",
    "\n",
    "%matplotlib inline"
   ]
  },
  {
   "cell_type": "code",
   "execution_count": 26,
   "metadata": {},
   "outputs": [
    {
     "data": {
      "text/plain": [
       "{1: 5, 2: 1, 3: 14, 4: 5}"
      ]
     },
     "execution_count": 26,
     "metadata": {},
     "output_type": "execute_result"
    }
   ],
   "source": [
    "rolls_counts"
   ]
  },
  {
   "cell_type": "code",
   "execution_count": 27,
   "metadata": {},
   "outputs": [],
   "source": [
    "# Unpack dict\n",
    "labels, values = zip(*rolls_counts.items())"
   ]
  },
  {
   "cell_type": "code",
   "execution_count": 28,
   "metadata": {},
   "outputs": [
    {
     "data": {
      "image/png": "[encoded data removed]",
      "text/plain": [
       "<Figure size 432x288 with 1 Axes>"
      ]
     },
     "metadata": {
      "needs_background": "light"
     },
     "output_type": "display_data"
    }
   ],
   "source": [
    "plt.bar(x=labels, \n",
    "        height=values);"
   ]
  },
  {
   "cell_type": "code",
   "execution_count": 29,
   "metadata": {},
   "outputs": [
    {
     "data": {
      "text/plain": [
       "[1, 4]"
      ]
     },
     "execution_count": 29,
     "metadata": {},
     "output_type": "execute_result"
    }
   ],
   "source": [
    "# Roll 2 dice\n",
    "roll_2_dice = (lambda: choices(population=list(range(1, n_sides+1)),\n",
    "                      k=2))\n",
    "roll_2_dice()"
   ]
  },
  {
   "cell_type": "code",
   "execution_count": 30,
   "metadata": {},
   "outputs": [
    {
     "data": {
      "text/plain": [
       "9"
      ]
     },
     "execution_count": 30,
     "metadata": {},
     "output_type": "execute_result"
    }
   ],
   "source": [
    "sum(roll_2_dice())"
   ]
  },
  {
   "cell_type": "code",
   "execution_count": 31,
   "metadata": {},
   "outputs": [],
   "source": [
    "# TODO:  Simulate rolling a sum of seven\n",
    "rolls = [sum(roll_2_dice()) for _ in range(10_0000)]"
   ]
  },
  {
   "cell_type": "code",
   "execution_count": 32,
   "metadata": {},
   "outputs": [],
   "source": [
    "rolls_counts = Counter(rolls)"
   ]
  },
  {
   "cell_type": "code",
   "execution_count": 33,
   "metadata": {},
   "outputs": [
    {
     "data": {
      "text/plain": [
       "[(7, 16600)]"
      ]
     },
     "execution_count": 33,
     "metadata": {},
     "output_type": "execute_result"
    }
   ],
   "source": [
    "rolls_counts.most_common(n=1)"
   ]
  },
  {
   "cell_type": "code",
   "execution_count": 34,
   "metadata": {},
   "outputs": [
    {
     "data": {
      "image/png": "[encoded data removed]",
      "text/plain": [
       "<Figure size 432x288 with 1 Axes>"
      ]
     },
     "metadata": {
      "needs_background": "light"
     },
     "output_type": "display_data"
    }
   ],
   "source": [
    "plt.bar(x=rolls_counts.keys(), \n",
    "        height=rolls_counts.values());"
   ]
  },
  {
   "cell_type": "code",
   "execution_count": null,
   "metadata": {},
   "outputs": [],
   "source": []
  },
  {
   "cell_type": "markdown",
   "metadata": {},
   "source": [
    "Any questions"
   ]
  },
  {
   "cell_type": "markdown",
   "metadata": {},
   "source": [
    "Counting Cards with Python\n",
    "------"
   ]
  },
  {
   "cell_type": "code",
   "execution_count": 35,
   "metadata": {},
   "outputs": [
    {
     "data": {
      "text/plain": [
       "Counter({'tens': 16, 'low_cards': 36})"
      ]
     },
     "execution_count": 35,
     "metadata": {},
     "output_type": "execute_result"
    }
   ],
   "source": [
    "# Create deck\n",
    "deck = Counter(tens=16, low_cards=36)\n",
    "deck"
   ]
  },
  {
   "cell_type": "code",
   "execution_count": 36,
   "metadata": {},
   "outputs": [],
   "source": [
    "deck.elements?"
   ]
  },
  {
   "cell_type": "code",
   "execution_count": 37,
   "metadata": {},
   "outputs": [],
   "source": [
    "from random import sample"
   ]
  },
  {
   "cell_type": "code",
   "execution_count": 38,
   "metadata": {},
   "outputs": [
    {
     "data": {
      "text/plain": [
       "['low_cards']"
      ]
     },
     "execution_count": 38,
     "metadata": {},
     "output_type": "execute_result"
    }
   ],
   "source": [
    "# Deal a card, any card\n",
    "sample(list(deck.elements()), k=1)"
   ]
  },
  {
   "cell_type": "code",
   "execution_count": 39,
   "metadata": {},
   "outputs": [
    {
     "data": {
      "text/plain": [
       "['low_cards',\n",
       " 'low_cards',\n",
       " 'tens',\n",
       " 'low_cards',\n",
       " 'tens',\n",
       " 'tens',\n",
       " 'low_cards',\n",
       " 'tens',\n",
       " 'low_cards',\n",
       " 'low_cards',\n",
       " 'tens',\n",
       " 'low_cards',\n",
       " 'low_cards',\n",
       " 'low_cards',\n",
       " 'low_cards',\n",
       " 'low_cards',\n",
       " 'tens',\n",
       " 'tens',\n",
       " 'low_cards',\n",
       " 'tens']"
      ]
     },
     "execution_count": 39,
     "metadata": {},
     "output_type": "execute_result"
    }
   ],
   "source": [
    "# Sample without replacement\n",
    "n_cards = 20\n",
    "seen = sample(list(deck.elements()), # (without replacement) \n",
    "              k=n_cards) \n",
    "seen"
   ]
  },
  {
   "cell_type": "code",
   "execution_count": 40,
   "metadata": {},
   "outputs": [
    {
     "data": {
      "text/plain": [
       "0.4"
      ]
     },
     "execution_count": 40,
     "metadata": {},
     "output_type": "execute_result"
    }
   ],
   "source": [
    "# Determine the proportion of cards with a ten-value (a ten, jack, queen, or king).\n",
    "seen.count('tens') / n_cards"
   ]
  },
  {
   "cell_type": "markdown",
   "metadata": {},
   "source": [
    "Hit or not?"
   ]
  },
  {
   "cell_type": "markdown",
   "metadata": {},
   "source": [
    "Biased coin\n",
    "------"
   ]
  },
  {
   "cell_type": "code",
   "execution_count": 41,
   "metadata": {},
   "outputs": [],
   "source": [
    "# Bernouli Trial\n",
    "trial = (lambda: choices(population='HT', # 2 sided coin\n",
    "                        cum_weights=(0.60, 1.00), # Bias - Settles on heads 60% of the time.\n",
    "                        k=7) # Number of spins (not flips)\n",
    "                 .count('H') >= 5) # Five Heads / Successes"
   ]
  },
  {
   "cell_type": "code",
   "execution_count": 42,
   "metadata": {},
   "outputs": [
    {
     "data": {
      "text/plain": [
       "False"
      ]
     },
     "execution_count": 42,
     "metadata": {},
     "output_type": "execute_result"
    }
   ],
   "source": [
    "trial()"
   ]
  },
  {
   "cell_type": "code",
   "execution_count": 43,
   "metadata": {},
   "outputs": [
    {
     "data": {
      "text/plain": [
       "0.41948"
      ]
     },
     "execution_count": 43,
     "metadata": {},
     "output_type": "execute_result"
    }
   ],
   "source": [
    "n_trials = 100_000\n",
    "sum(trial() for _ in range(n_trials)) / n_trials"
   ]
  },
  {
   "cell_type": "code",
   "execution_count": 44,
   "metadata": {},
   "outputs": [
    {
     "data": {
      "text/plain": [
       "0.7957"
      ]
     },
     "execution_count": 44,
     "metadata": {},
     "output_type": "execute_result"
    }
   ],
   "source": [
    "# Probability of the median of 5 samples being in middle two quartiles\n",
    "trial = lambda: 2500 <= sorted(choices(range(10000), k=5))[2]  < 7500\n",
    "sum(trial() for i in range(10000)) / 10000"
   ]
  },
  {
   "cell_type": "code",
   "execution_count": null,
   "metadata": {},
   "outputs": [],
   "source": []
  },
  {
   "cell_type": "code",
   "execution_count": null,
   "metadata": {},
   "outputs": [],
   "source": []
  },
  {
   "cell_type": "code",
   "execution_count": null,
   "metadata": {},
   "outputs": [],
   "source": []
  },
  {
   "cell_type": "code",
   "execution_count": 45,
   "metadata": {},
   "outputs": [
    {
     "ename": "SyntaxError",
     "evalue": "invalid syntax (<ipython-input-45-f7e1255d6990>, line 1)",
     "output_type": "error",
     "traceback": [
      "\u001b[0;36m  File \u001b[0;32m\"<ipython-input-45-f7e1255d6990>\"\u001b[0;36m, line \u001b[0;32m1\u001b[0m\n\u001b[0;31m    Source: https://docs.python.org/3/library/random.html\u001b[0m\n\u001b[0m                 ^\u001b[0m\n\u001b[0;31mSyntaxError\u001b[0m\u001b[0;31m:\u001b[0m invalid syntax\n"
     ]
    }
   ],
   "source": [
    "Source: https://docs.python.org/3/library/random.html"
   ]
  },
  {
   "cell_type": "code",
   "execution_count": null,
   "metadata": {},
   "outputs": [],
   "source": []
  },
  {
   "cell_type": "code",
   "execution_count": null,
   "metadata": {},
   "outputs": [],
   "source": []
  },
  {
   "cell_type": "markdown",
   "metadata": {},
   "source": [
    "Summary\n",
    "------\n",
    "\n",
    "- "
   ]
  },
  {
   "cell_type": "markdown",
   "metadata": {},
   "source": [
    "HT: \n",
    "----\n",
    "\n",
    "- [Python's Standard Library Examples for random module](https://docs.python.org/3/library/random.html#examples-and-recipes)\n",
    "- Raymond Hettinger's _Modern Python: Big Ideas and Little Code in Python_\n",
    "    - [video](https://www.amazon.com/Lesson-Implementing-k-means-Unsupervised-Learning/dp/B0782H9R1B)\n",
    "    - [code](https://github.com/rhettinger/modernpython)\n",
    "\n"
   ]
  }
 ],
 "metadata": {
  "celltoolbar": "Slideshow",
  "kernelspec": {
   "display_name": "Python 3",
   "language": "python",
   "name": "python3"
  },
  "language_info": {
   "codemirror_mode": {
    "name": "ipython",
    "version": 3
   },
   "file_extension": ".py",
   "mimetype": "text/x-python",
   "name": "python",
   "nbconvert_exporter": "python",
   "pygments_lexer": "ipython3",
   "version": "3.7.2"
  }
 },
 "nbformat": 4,
 "nbformat_minor": 2
}
