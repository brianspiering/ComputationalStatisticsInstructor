{
 "cells": [
  {
   "cell_type": "markdown",
   "metadata": {},
   "source": [
    "Computational Take on Statistics: Bootstrapping\n",
    "========"
   ]
  },
  {
   "cell_type": "markdown",
   "metadata": {},
   "source": [
    "repeated sampling from a data set, including the bootstrap, jackknife and permutation resampling. "
   ]
  },
  {
   "cell_type": "markdown",
   "metadata": {},
   "source": [
    "http://statistics.about.com/od/Applications/a/Example-Of-Bootstrapping.htm\n"
   ]
  },
  {
   "cell_type": "markdown",
   "metadata": {},
   "source": [
    "Under usual circumstances, sample sizes of less than 40 cannot be dealt with by assuming a normal distribution or a t distribution. Bootstrap techniques work quite well with samples that have less than 40 elements. "
   ]
  },
  {
   "cell_type": "markdown",
   "metadata": {},
   "source": [
    "What about Big Data?\n",
    "\n",
    "Yes - aggregated.\n",
    "\n",
    "But often you want to disaggreant / segment\n",
    " \n",
    "or personalize!"
   ]
  },
  {
   "cell_type": "code",
   "execution_count": 1,
   "metadata": {},
   "outputs": [],
   "source": [
    "import numpy as np"
   ]
  },
  {
   "cell_type": "code",
   "execution_count": 6,
   "metadata": {},
   "outputs": [],
   "source": [
    "# In any probabilistic simulation, it is prudent to set the random number seed so that results can be replicated\n",
    "np.random.seed(seed=42)"
   ]
  },
  {
   "cell_type": "code",
   "execution_count": 7,
   "metadata": {},
   "outputs": [
    {
     "data": {
      "text/plain": [
       "array([2, 3, 0, 2, 2, 3, 0, 0, 2, 1, 2, 2])"
      ]
     },
     "execution_count": 7,
     "metadata": {},
     "output_type": "execute_result"
    }
   ],
   "source": [
    "# Sampling is done with replacement is default\n",
    "np.random.choice(a=4, size=12,)"
   ]
  },
  {
   "cell_type": "code",
   "execution_count": 8,
   "metadata": {},
   "outputs": [
    {
     "ename": "ValueError",
     "evalue": "Cannot take a larger sample than population when 'replace=False'",
     "output_type": "error",
     "traceback": [
      "\u001b[0;31m---------------------------------------------------------------------------\u001b[0m",
      "\u001b[0;31mValueError\u001b[0m                                Traceback (most recent call last)",
      "\u001b[0;32m<ipython-input-8-97fb7652c167>\u001b[0m in \u001b[0;36m<module>\u001b[0;34m\u001b[0m\n\u001b[1;32m      1\u001b[0m \u001b[0;31m# Sampling is done with replacement is default\u001b[0m\u001b[0;34m\u001b[0m\u001b[0;34m\u001b[0m\u001b[0;34m\u001b[0m\u001b[0m\n\u001b[0;32m----> 2\u001b[0;31m \u001b[0mnp\u001b[0m\u001b[0;34m.\u001b[0m\u001b[0mrandom\u001b[0m\u001b[0;34m.\u001b[0m\u001b[0mchoice\u001b[0m\u001b[0;34m(\u001b[0m\u001b[0ma\u001b[0m\u001b[0;34m=\u001b[0m\u001b[0;36m4\u001b[0m\u001b[0;34m,\u001b[0m \u001b[0msize\u001b[0m\u001b[0;34m=\u001b[0m\u001b[0;36m12\u001b[0m\u001b[0;34m,\u001b[0m \u001b[0mreplace\u001b[0m\u001b[0;34m=\u001b[0m\u001b[0;32mFalse\u001b[0m\u001b[0;34m)\u001b[0m\u001b[0;34m\u001b[0m\u001b[0;34m\u001b[0m\u001b[0m\n\u001b[0m",
      "\u001b[0;32mmtrand.pyx\u001b[0m in \u001b[0;36mmtrand.RandomState.choice\u001b[0;34m()\u001b[0m\n",
      "\u001b[0;31mValueError\u001b[0m: Cannot take a larger sample than population when 'replace=False'"
     ]
    }
   ],
   "source": [
    "# Sampling is without replacement\n",
    "np.random.choice(a=4, size=12, replace=False) "
   ]
  },
  {
   "cell_type": "code",
   "execution_count": 9,
   "metadata": {},
   "outputs": [
    {
     "data": {
      "text/plain": [
       "array([0, 1, 3])"
      ]
     },
     "execution_count": 9,
     "metadata": {},
     "output_type": "execute_result"
    }
   ],
   "source": [
    "# Sampling is without replacement\n",
    "np.random.choice(a=4, size=3, replace=False) "
   ]
  },
  {
   "cell_type": "code",
   "execution_count": 4,
   "metadata": {},
   "outputs": [
    {
     "data": {
      "text/plain": [
       "array([3, 3, 1, 0, 0, 3, 1, 0, 0, 3, 0, 0])"
      ]
     },
     "execution_count": 4,
     "metadata": {},
     "output_type": "execute_result"
    }
   ],
   "source": [
    "# Probability weights can be given\n",
    "np.random.choice(4, 12, p=[.4, .1, .1, .4])"
   ]
  },
  {
   "cell_type": "markdown",
   "metadata": {},
   "source": [
    "Bootstrap\n",
    "The bootstrap is commonly used to estimate statistics when a closed form solution may not exist."
   ]
  },
  {
   "cell_type": "code",
   "execution_count": 3,
   "metadata": {},
   "outputs": [],
   "source": [
    "from random import choices \n",
    "\n",
    "from statistics import mean"
   ]
  },
  {
   "cell_type": "code",
   "execution_count": 4,
   "metadata": {},
   "outputs": [
    {
     "data": {
      "text/plain": [
       "[1.6,\n",
       " 1.8,\n",
       " 2.2,\n",
       " 3,\n",
       " 3.4,\n",
       " 3.4,\n",
       " 3.6,\n",
       " 3.6,\n",
       " 3.6,\n",
       " 3.8,\n",
       " 3.8,\n",
       " 4,\n",
       " 4.2,\n",
       " 4.6,\n",
       " 4.6,\n",
       " 5.2,\n",
       " 5.2,\n",
       " 5.2,\n",
       " 6.4,\n",
       " 8.8]"
      ]
     },
     "execution_count": 4,
     "metadata": {},
     "output_type": "execute_result"
    }
   ],
   "source": [
    "data = 1, 2, 4, 4, 10\n",
    "means = sorted(mean(choices(data, k=5)) \n",
    "               for i in range(20))\n",
    "means"
   ]
  },
  {
   "cell_type": "code",
   "execution_count": null,
   "metadata": {},
   "outputs": [],
   "source": []
  },
  {
   "cell_type": "markdown",
   "metadata": {},
   "source": [
    "Confidence interval"
   ]
  },
  {
   "cell_type": "code",
   "execution_count": 30,
   "metadata": {},
   "outputs": [
    {
     "name": "stdout",
     "output_type": "stream",
     "text": [
      "The sample mean of 4.2\n",
      "90% confidence interval from 2.4 to 7.2\n"
     ]
    }
   ],
   "source": [
    "print(f'The sample mean of {mean(data):.1f}')\n",
    "print(f'90% confidence interval from {means[1]:.1f} to {means[-2]:.1f}')"
   ]
  },
  {
   "cell_type": "code",
   "execution_count": 31,
   "metadata": {},
   "outputs": [],
   "source": [
    "# TODO: make a function with n samples parameters"
   ]
  },
  {
   "cell_type": "code",
   "execution_count": null,
   "metadata": {},
   "outputs": [],
   "source": [
    "http://people.duke.edu/~ccc14/sta-663-2017/15B_ResamplingAndSimulation.html"
   ]
  },
  {
   "cell_type": "markdown",
   "metadata": {},
   "source": [
    "-----"
   ]
  },
  {
   "cell_type": "code",
   "execution_count": 32,
   "metadata": {},
   "outputs": [
    {
     "name": "stdout",
     "output_type": "stream",
     "text": [
      "10,000 label reshufflings produced only 11 instances with a difference\n",
      "at least as extreme as the observed difference of 13.0.\n",
      "The one-sided p-value of 0.0011 leads us to reject the null\n",
      "hypothesis that there is no difference between the drug and the placebo.\n"
     ]
    }
   ],
   "source": [
    "# Example from \"Statistics is Easy\" by Dennis Shasha and Manda Wilson\n",
    "from statistics import mean\n",
    "\n",
    "drug = [54, 73, 53, 70, 73, 68, 52, 65, 65]\n",
    "placebo = [54, 51, 58, 44, 55, 52, 42, 47, 58, 46]\n",
    "observed_diff = mean(drug) - mean(placebo)\n",
    "\n",
    "n = 10000\n",
    "count = 0\n",
    "combined = drug + placebo\n",
    "for i in range(n):\n",
    "    shuffle(combined)\n",
    "    new_diff = mean(combined[:len(drug)]) - mean(combined[len(drug):])\n",
    "    count += (new_diff >= observed_diff)\n",
    "\n",
    "print(f'{n:,} label reshufflings produced only {count} instances with a difference')\n",
    "print(f'at least as extreme as the observed difference of {observed_diff:.1f}.')\n",
    "print(f'The one-sided p-value of {count / n:.4f} leads us to reject the null')\n",
    "print(f'hypothesis that there is no difference between the drug and the placebo.')"
   ]
  },
  {
   "cell_type": "code",
   "execution_count": null,
   "metadata": {},
   "outputs": [],
   "source": []
  },
  {
   "cell_type": "code",
   "execution_count": null,
   "metadata": {},
   "outputs": [],
   "source": []
  },
  {
   "cell_type": "code",
   "execution_count": null,
   "metadata": {},
   "outputs": [],
   "source": []
  },
  {
   "cell_type": "code",
   "execution_count": null,
   "metadata": {},
   "outputs": [],
   "source": []
  },
  {
   "cell_type": "code",
   "execution_count": null,
   "metadata": {},
   "outputs": [],
   "source": []
  },
  {
   "cell_type": "markdown",
   "metadata": {},
   "source": [
    "Bonus Material\n",
    "-----"
   ]
  },
  {
   "cell_type": "markdown",
   "metadata": {},
   "source": [
    "Simulation of arrival times and service deliveries in a single server queue:"
   ]
  },
  {
   "cell_type": "code",
   "execution_count": 33,
   "metadata": {},
   "outputs": [
    {
     "name": "stdout",
     "output_type": "stream",
     "text": [
      "Mean wait: 18.8.  Stdev wait: 18.6.\n",
      "Median wait: 12.8.  Max wait: 100.4.\n"
     ]
    }
   ],
   "source": [
    "from statistics import mean, median, stdev\n",
    "\n",
    "average_arrival_interval = 5.6\n",
    "average_service_time = 5.0\n",
    "stdev_service_time = 0.5\n",
    "\n",
    "num_waiting = 0\n",
    "arrivals = []\n",
    "starts = []\n",
    "arrival = service_end = 0.0\n",
    "for i in range(20000):\n",
    "    if arrival <= service_end:\n",
    "        num_waiting += 1\n",
    "        arrival += expovariate(1.0 / average_arrival_interval)\n",
    "        arrivals.append(arrival)\n",
    "    else:\n",
    "        num_waiting -= 1\n",
    "        service_start = service_end if num_waiting else arrival\n",
    "        service_time = gauss(average_service_time, stdev_service_time)\n",
    "        service_end = service_start + service_time\n",
    "        starts.append(service_start)\n",
    "\n",
    "waits = [start - arrival for arrival, start in zip(arrivals, starts)]\n",
    "print(f'Mean wait: {mean(waits):.1f}.  Stdev wait: {stdev(waits):.1f}.')\n",
    "print(f'Median wait: {median(waits):.1f}.  Max wait: {max(waits):.1f}.')"
   ]
  },
  {
   "cell_type": "code",
   "execution_count": null,
   "metadata": {},
   "outputs": [],
   "source": []
  },
  {
   "cell_type": "code",
   "execution_count": null,
   "metadata": {},
   "outputs": [],
   "source": []
  }
 ],
 "metadata": {
  "kernelspec": {
   "display_name": "Python 3",
   "language": "python",
   "name": "python3"
  },
  "language_info": {
   "codemirror_mode": {
    "name": "ipython",
    "version": 3
   },
   "file_extension": ".py",
   "mimetype": "text/x-python",
   "name": "python",
   "nbconvert_exporter": "python",
   "pygments_lexer": "ipython3",
   "version": "3.7.2"
  }
 },
 "nbformat": 4,
 "nbformat_minor": 2
}
