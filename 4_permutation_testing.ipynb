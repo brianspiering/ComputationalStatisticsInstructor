{
 "cells": [
  {
   "cell_type": "markdown",
   "metadata": {},
   "source": [
    "Computational Take on Statistics: Permutation Testing\n",
    "========"
   ]
  },
  {
   "cell_type": "code",
   "execution_count": 1,
   "metadata": {},
   "outputs": [],
   "source": [
    "reset -fs"
   ]
  },
  {
   "cell_type": "markdown",
   "metadata": {},
   "source": [
    "Is a drug effective or not?\n",
    "-----"
   ]
  },
  {
   "cell_type": "code",
   "execution_count": 2,
   "metadata": {},
   "outputs": [],
   "source": [
    "drug    = [54, 73, 53, 70, 73, 68, 52, 65, 65]\n",
    "placebo = [54, 51, 58, 44, 55, 52, 42, 47, 58, 46]"
   ]
  },
  {
   "cell_type": "code",
   "execution_count": 7,
   "metadata": {},
   "outputs": [
    {
     "name": "stdout",
     "output_type": "stream",
     "text": [
      "12.97\n"
     ]
    }
   ],
   "source": [
    "from statistics import mean\n",
    "\n",
    "observed_diff = mean(drug) - mean(placebo)\n",
    "print(f\"{observed_diff:,.2f}\")"
   ]
  },
  {
   "cell_type": "code",
   "execution_count": 10,
   "metadata": {},
   "outputs": [
    {
     "data": {
      "image/png": "[encoded data removed]",
      "text/plain": [
       "<Figure size 432x288 with 1 Axes>"
      ]
     },
     "metadata": {
      "needs_background": "light"
     },
     "output_type": "display_data"
    }
   ],
   "source": [
    "import matplotlib.pylab as plt\n",
    "import seaborn as sns\n",
    "\n",
    "palette = \"Dark2\"\n",
    "%matplotlib inline\n",
    "\n",
    "sns.distplot(drug, color=\"skyblue\", label=\"Drug\", kde=False);\n",
    "sns.distplot(placebo, color=\"red\", label=\"Placebo\", kde=False);\n",
    "plt.legend();"
   ]
  },
  {
   "cell_type": "markdown",
   "metadata": {},
   "source": [
    "What would look if there were no difference in the groups?\n",
    "---------\n",
    "\n",
    "It is the same if the labels were shuffled (with the same data)."
   ]
  },
  {
   "cell_type": "code",
   "execution_count": 12,
   "metadata": {},
   "outputs": [],
   "source": [
    "combined = drug + placebo"
   ]
  },
  {
   "cell_type": "code",
   "execution_count": 22,
   "metadata": {},
   "outputs": [
    {
     "data": {
      "image/png": "[encoded data removed]",
      "text/plain": [
       "<Figure size 432x288 with 1 Axes>"
      ]
     },
     "metadata": {
      "needs_background": "light"
     },
     "output_type": "display_data"
    }
   ],
   "source": [
    "from random import shuffle\n",
    "\n",
    "shuffle(combined)\n",
    "drug_random = combined[len(drug):]\n",
    "placebo_random = combined[:len(drug)]\n",
    "\n",
    "sns.distplot(drug_random, color=\"skyblue\", label=\"Drug\", kde=False);\n",
    "sns.distplot(placebo_random, color=\"red\", label=\"Placebo\", kde=False);\n",
    "plt.legend();"
   ]
  },
  {
   "cell_type": "code",
   "execution_count": 82,
   "metadata": {},
   "outputs": [],
   "source": [
    "\n",
    "\n",
    "n = 10_000\n",
    "count = 0\n",
    "combined = drug + placebo\n",
    "for i in range(n):\n",
    "    shuffle(combined)\n",
    "    new_diff = mean(combined[:len(drug)]) - mean(combined[len(drug):])\n",
    "    count += (new_diff >= observed_diff)"
   ]
  },
  {
   "cell_type": "code",
   "execution_count": 83,
   "metadata": {},
   "outputs": [
    {
     "name": "stdout",
     "output_type": "stream",
     "text": [
      "10,000 label reshufflings produced only 12 instances with a difference\n",
      "at least as extreme as the observed difference of 13.0.\n"
     ]
    }
   ],
   "source": [
    "print(f\"\"\"{n:,} label reshufflings produced only {count} instances with a difference\n",
    "at least as extreme as the observed difference of {observed_diff:.1f}.\"\"\")"
   ]
  },
  {
   "cell_type": "markdown",
   "metadata": {},
   "source": [
    "What is the p-values?"
   ]
  },
  {
   "cell_type": "code",
   "execution_count": 84,
   "metadata": {},
   "outputs": [
    {
     "data": {
      "text/plain": [
       "0.0012"
      ]
     },
     "execution_count": 84,
     "metadata": {},
     "output_type": "execute_result"
    }
   ],
   "source": [
    "count / n"
   ]
  },
  {
   "cell_type": "markdown",
   "metadata": {},
   "source": [
    "What should we do?"
   ]
  },
  {
   "cell_type": "markdown",
   "metadata": {},
   "source": [
    "Reject the null hypothesis that there is no difference between the drug and the placebo.\"\"\")"
   ]
  },
  {
   "cell_type": "markdown",
   "metadata": {},
   "source": [
    " The only hard part is deciding whether to do a one-sided test or a two-sided test.  It depends on what hypothesis you are testing.  If you think men are taller than women, or that the new drug is better than the old drug, then a one-sided test is appropriate.  If you think there is a difference between the groups but you don't know what it is, you can use a two-sided test; that is, use the absolute value of the difference as the test statistic.\n",
    "\n",
    "This decision can seem arbitrary, but don't worry.  The effect on the p-value is just a factor of two, and (as I argued last time) we only care about the order of magnitude.  Whether the p-value is 2% or 4% or 8% doesn't really matter."
   ]
  },
  {
   "cell_type": "markdown",
   "metadata": {},
   "source": [
    "Any Questions?\n",
    "-----"
   ]
  },
  {
   "cell_type": "markdown",
   "metadata": {},
   "source": [
    "<br>\n",
    "<br> \n",
    "<br>\n",
    "\n",
    "Analytical vs Computational Hypothesis Testing\n",
    "----"
   ]
  },
  {
   "cell_type": "markdown",
   "metadata": {},
   "source": [
    "Steps for Analytical Hypothesis Testing\n",
    "-----\n",
    "\n",
    "1. Setup testing framework\n",
    "    1. Create null and alternative hypothesis\n",
    "    1. Set α\n",
    "1. Collect data\n",
    "1. Pick and calculate t-statistic\n",
    "1. Calculate p-value\n",
    "1. Draw conclusion"
   ]
  },
  {
   "cell_type": "markdown",
   "metadata": {},
   "source": [
    "Steps for Computational Hypothesis Testing\n",
    "-----\n",
    "\n",
    "1. Setup testing framework\n",
    "    1. Create null and alternative hypothesis\n",
    "    1. Set α\n",
    "1. Collect data\n",
    "1. __Iterate while shuffling data__ to simulate null effect\n",
    "1. Calculate p-value \n",
    "1. Draw conclusion"
   ]
  },
  {
   "cell_type": "markdown",
   "metadata": {},
   "source": [
    "Comparing Analytical vs Computational Hypothesis\n",
    "--------\n",
    "\n",
    "__Almost all of the steps are the same.___\n",
    "\n",
    "The only difference is:\n",
    "\n",
    "- Analytical method uses domain and theoretical knowledge to pick the test statistic.\n",
    "- Computational method uses fundamental computing (looping and random number generator) to simulate null effect."
   ]
  },
  {
   "cell_type": "markdown",
   "metadata": {},
   "source": [
    "Advantages of Computational Approach\n",
    "-----\n",
    "\n",
    "1) Analysis often dictates the test statistic; simulation lets you choose whatever test statistic is most appropriate.\n",
    "\n",
    "2) Analytic methods are inflexible.  If you have issues like censored data, non-independence, and long-tailed distributions, you won't find an off-the-shelf test; and unless you are a mathematical statistician, you won't be able to make one.  With simulation, these kinds of issues are easy.\n",
    "\n",
    "3) When people think of analytic methods as black boxes, they often fixate on finding the right test and figuring out how to apply it, instead of thinking carefully about the problem."
   ]
  },
  {
   "cell_type": "markdown",
   "metadata": {},
   "source": [
    "<br>\n",
    "<br> \n",
    "<br>\n",
    "\n",
    "Linear Regression Example\n",
    "-----"
   ]
  },
  {
   "cell_type": "code",
   "execution_count": 96,
   "metadata": {},
   "outputs": [],
   "source": [
    "x = [95, 85, 80, 70, 60]\n",
    "y = [85, 95, 70, 65, 70]"
   ]
  },
  {
   "cell_type": "code",
   "execution_count": 97,
   "metadata": {},
   "outputs": [
    {
     "data": {
      "image/png": "[encoded data removed]",
      "text/plain": [
       "<Figure size 432x288 with 1 Axes>"
      ]
     },
     "metadata": {
      "needs_background": "light"
     },
     "output_type": "display_data"
    }
   ],
   "source": [
    "sns.scatterplot(x=x, y=y);"
   ]
  },
  {
   "cell_type": "code",
   "execution_count": 98,
   "metadata": {},
   "outputs": [
    {
     "data": {
      "image/png": "[encoded data removed]",
      "text/plain": [
       "<Figure size 432x288 with 1 Axes>"
      ]
     },
     "metadata": {
      "needs_background": "light"
     },
     "output_type": "display_data"
    }
   ],
   "source": [
    "sns.regplot(x=x, y=y);"
   ]
  },
  {
   "cell_type": "markdown",
   "metadata": {},
   "source": [
    "Estimate slope from points\n",
    "------\n",
    "\n",
    "$$slope = \\frac{\\sum_{i=1}^n (x_i- \\bar x)(y_i- \\bar y)}{\\sum_{i=1}^n(x_i- \\bar x)^2}$$"
   ]
  },
  {
   "cell_type": "code",
   "execution_count": 105,
   "metadata": {},
   "outputs": [],
   "source": [
    "def slope(x, y):\n",
    "    \"Caculate the estimate the slope between x and y using least square method.\"\n",
    "    x_mean = mean(x)\n",
    "    y_mean = mean(y)\n",
    "    numerator = sum((x[i]-x_mean)*(y[i]-y_mean) for i in range(len(x)))\n",
    "    denominator = sum((x[i]-x_mean)**2 for i in range(len(x)))\n",
    "    return  numerator/ denominator"
   ]
  },
  {
   "cell_type": "code",
   "execution_count": 106,
   "metadata": {},
   "outputs": [
    {
     "name": "stdout",
     "output_type": "stream",
     "text": [
      "-0.0270\n"
     ]
    }
   ],
   "source": [
    "observed_slope = slope(x, y)\n",
    "print(f\"{observed_slope:,.4f}\")"
   ]
  },
  {
   "cell_type": "code",
   "execution_count": 101,
   "metadata": {},
   "outputs": [],
   "source": [
    "n = 10_000\n",
    "\n",
    "count = 0\n",
    "for i in range(n):\n",
    "    shuffle(y)\n",
    "    new_slope = slope(x, y)\n",
    "    count += (new_slope >= observed_slope)"
   ]
  },
  {
   "cell_type": "code",
   "execution_count": 102,
   "metadata": {},
   "outputs": [
    {
     "name": "stdout",
     "output_type": "stream",
     "text": [
      "10,000 label reshufflings produced only 87 instances with a difference\n",
      "at least as extreme as the observed difference of 1.2.\n"
     ]
    }
   ],
   "source": [
    "print(f\"\"\"{n:,} label reshufflings produced only {count:,} instances with a difference\n",
    "at least as extreme as the observed difference of {observed_slope:.1f}.\"\"\")"
   ]
  },
  {
   "cell_type": "code",
   "execution_count": 103,
   "metadata": {},
   "outputs": [
    {
     "data": {
      "text/plain": [
       "0.0087"
      ]
     },
     "execution_count": 103,
     "metadata": {},
     "output_type": "execute_result"
    }
   ],
   "source": [
    "count / n"
   ]
  },
  {
   "cell_type": "markdown",
   "metadata": {},
   "source": [
    "What should we do?\n",
    "\n",
    "Conclude there is not significatn linear relationship between these variables"
   ]
  },
  {
   "cell_type": "markdown",
   "metadata": {},
   "source": [
    "<br>\n",
    "<br> \n",
    "<br>\n",
    "\n",
    "The only question: \"Is the apparent effect real, or is it due to chance?\" \n",
    "--------\n",
    "\n",
    "Thus, there is only one test in all hypothesis testing!\n",
    "-----"
   ]
  },
  {
   "cell_type": "markdown",
   "metadata": {},
   "source": [
    "Your turn, fair or loaded dice"
   ]
  },
  {
   "cell_type": "code",
   "execution_count": 135,
   "metadata": {},
   "outputs": [
    {
     "data": {
      "image/png": "[encoded data removed]",
      "text/plain": [
       "<Figure size 432x288 with 1 Axes>"
      ]
     },
     "metadata": {
      "needs_background": "light"
     },
     "output_type": "display_data"
    }
   ],
   "source": [
    "# TODO: Delete behand\n",
    "# Create data \n",
    "from random import choices\n",
    "# Six roulette wheel spins (weighted sampling with replacement)\n",
    "data = choices(population=list(range(1, 7)),\n",
    "        weights=[.155, .155, .155, .155, .155, .225], \n",
    "        k=100)\n",
    "sns.distplot(data, bins=6, kde=False);"
   ]
  },
  {
   "cell_type": "code",
   "execution_count": 121,
   "metadata": {},
   "outputs": [],
   "source": [
    "# Test just for number of 6s\n",
    "n = 10_000\n",
    "\n",
    "count = 0\n",
    "\n",
    "count = 0\n",
    "for i in range(n):\n",
    "    shuffle(data)\n",
    "    Counter(data)\n",
    "    count += (new_slope >= observed_slope)"
   ]
  },
  {
   "cell_type": "code",
   "execution_count": null,
   "metadata": {},
   "outputs": [],
   "source": [
    "# Test all numbers are equal"
   ]
  },
  {
   "cell_type": "code",
   "execution_count": null,
   "metadata": {},
   "outputs": [],
   "source": []
  },
  {
   "cell_type": "code",
   "execution_count": null,
   "metadata": {},
   "outputs": [],
   "source": []
  },
  {
   "cell_type": "code",
   "execution_count": null,
   "metadata": {},
   "outputs": [],
   "source": []
  },
  {
   "cell_type": "code",
   "execution_count": null,
   "metadata": {},
   "outputs": [],
   "source": []
  },
  {
   "cell_type": "code",
   "execution_count": null,
   "metadata": {},
   "outputs": [],
   "source": []
  },
  {
   "cell_type": "code",
   "execution_count": null,
   "metadata": {},
   "outputs": [],
   "source": []
  },
  {
   "cell_type": "markdown",
   "metadata": {},
   "source": [
    "Bonus Material\n",
    "-----"
   ]
  },
  {
   "cell_type": "markdown",
   "metadata": {},
   "source": [
    "Simulation of arrival times and service deliveries in a single server queue:"
   ]
  },
  {
   "cell_type": "code",
   "execution_count": null,
   "metadata": {},
   "outputs": [],
   "source": [
    "from random import expovariate, gauss\n",
    "from statistics import mean, median, stdev"
   ]
  },
  {
   "cell_type": "code",
   "execution_count": null,
   "metadata": {},
   "outputs": [],
   "source": [
    "\n",
    "\n",
    "average_arrival_interval = 5.6\n",
    "average_service_time = 5.0\n",
    "stdev_service_time = 0.5\n",
    "\n",
    "num_waiting = 0\n",
    "arrivals = []\n",
    "starts = []\n",
    "arrival = service_end = 0.0\n",
    "for i in range(20000):\n",
    "    if arrival <= service_end:\n",
    "        num_waiting += 1\n",
    "        arrival += expovariate(1.0 / average_arrival_interval)\n",
    "        arrivals.append(arrival)\n",
    "    else:\n",
    "        num_waiting -= 1\n",
    "        service_start = service_end if num_waiting else arrival\n",
    "        service_time = gauss(average_service_time, stdev_service_time)\n",
    "        service_end = service_start + service_time\n",
    "        starts.append(service_start)\n",
    "\n",
    "waits = [start - arrival for arrival, start in zip(arrivals, starts)]\n",
    "print(f'Mean wait: {mean(waits):.1f}.  Stdev wait: {stdev(waits):.1f}.')\n",
    "print(f'Median wait: {median(waits):.1f}.  Max wait: {max(waits):.1f}.')"
   ]
  },
  {
   "cell_type": "code",
   "execution_count": null,
   "metadata": {},
   "outputs": [],
   "source": []
  },
  {
   "cell_type": "markdown",
   "metadata": {},
   "source": [
    "Resources\n",
    "-------\n",
    "\n",
    "- \"[Statistics Without the Agonizing Pain](https://www.youtube.com/watch?v=5Dnw46eC-0o)\" by John Rauser\n",
    "- \"[Statistics is Easy](https://www.amazon.com/Statistics-Second-Synthesis-Lectures-Mathematics/dp/160845570X)\" by Dennis Shasha and Manda Wilson\n",
    "- [Raymond Hettinger's Modern Python course](https://github.com/rhettinger/modernpython/blob/master/resampling.py)\n",
    "- https://stattrek.com/regression/regression-example.aspx\n",
    "- http://allendowney.blogspot.com/2011/05/there-is-only-one-test.html"
   ]
  },
  {
   "cell_type": "markdown",
   "metadata": {},
   "source": [
    "<br>\n",
    "<br> \n",
    "<br>\n",
    "\n",
    "----"
   ]
  }
 ],
 "metadata": {
  "kernelspec": {
   "display_name": "Python 3",
   "language": "python",
   "name": "python3"
  },
  "language_info": {
   "codemirror_mode": {
    "name": "ipython",
    "version": 3
   },
   "file_extension": ".py",
   "mimetype": "text/x-python",
   "name": "python",
   "nbconvert_exporter": "python",
   "pygments_lexer": "ipython3",
   "version": "3.7.2"
  }
 },
 "nbformat": 4,
 "nbformat_minor": 2
}
