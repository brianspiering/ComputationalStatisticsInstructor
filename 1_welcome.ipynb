{
 "cells": [
  {
   "cell_type": "markdown",
   "metadata": {
    "slideshow": {
     "slide_type": "slide"
    }
   },
   "source": [
    "<center><img src=\"images/di.png\" width=\"75%\"/></center>\n",
    "<center><h2>An Introduction to Computational Statistics in Python</h2></center>\n",
    "<center><h2>Brian Spiering</h2></center>"
   ]
  },
  {
   "cell_type": "markdown",
   "metadata": {
    "slideshow": {
     "slide_type": "slide"
    }
   },
   "source": [
    "While we are waiting to start …\n",
    "------\n",
    "\n",
    "1. Get your laptop on the wifi:\n",
    "    - `USF-Visitors network` is the network.\n",
    "    - Send your new username and password to your your phone.\n",
    "    - Then manually type that information on your laptop.\n",
    "1. Check out the GitHub repo for the workshop - [bit.ly/comp-stats](http://bit.ly/comp-stats)\n",
    "1. Ask Brian any questions.\n",
    "1. Introduce yourself to your neighbor. We'll be coding together today."
   ]
  },
  {
   "cell_type": "markdown",
   "metadata": {
    "slideshow": {
     "slide_type": "notes"
    }
   },
   "source": [
    "Resources\n",
    "------\n",
    "\n",
    "- https://myusf.usfca.edu/services/network-guest-access\n",
    "- https://github.com/brianspiering/ComputationalStatistics"
   ]
  },
  {
   "cell_type": "markdown",
   "metadata": {
    "slideshow": {
     "slide_type": "slide"
    }
   },
   "source": [
    "Agenda\n",
    "------\n",
    "\n",
    "1. Introductions\n",
    "1. Orientation to Computational Statistics\n",
    "1. Simulating Outcomes\n",
    "1. Permutation Testing\n",
    "1. Break\n",
    "1. Inspection Paradox"
   ]
  },
  {
   "cell_type": "markdown",
   "metadata": {
    "slideshow": {
     "slide_type": "slide"
    }
   },
   "source": [
    "Who am I?\n",
    "------\n",
    "\n",
    "Former aceademic Computational Neuroscientist \n",
    "\n",
    "Former industry Data Scienctist\n",
    "\n",
    "Currently faculty at USF's MS in Data Science program"
   ]
  },
  {
   "cell_type": "markdown",
   "metadata": {
    "slideshow": {
     "slide_type": "slide"
    }
   },
   "source": [
    "Who are you?\n",
    "-----"
   ]
  },
  {
   "cell_type": "markdown",
   "metadata": {
    "slideshow": {
     "slide_type": "fragment"
    }
   },
   "source": [
    "Raise your hand...\n",
    "\n",
    "- Have used Python before?"
   ]
  },
  {
   "cell_type": "markdown",
   "metadata": {
    "slideshow": {
     "slide_type": "fragment"
    }
   },
   "source": [
    "- Have taken a statistics class?"
   ]
  },
  {
   "cell_type": "markdown",
   "metadata": {
    "slideshow": {
     "slide_type": "fragment"
    }
   },
   "source": [
    "- Consider themselves a Data Scientist?"
   ]
  },
  {
   "cell_type": "markdown",
   "metadata": {
    "slideshow": {
     "slide_type": "slide"
    }
   },
   "source": [
    "A Computational Take on Statistics\n",
    "-------\n",
    "\n",
    "Historically, statistics has been analytic and theoretically driven.\n",
    "\n",
    "This is an inverted approach - computational and empirically movtivated."
   ]
  },
  {
   "cell_type": "markdown",
   "metadata": {
    "slideshow": {
     "slide_type": "fragment"
    }
   },
   "source": [
    "The goal is to leveage efficient compute and resampling techniques (e.g., bootstrapping and permutation tests) to build statistics from first principles. Use that new foundation to solve novel problems.\n",
    "\n"
   ]
  },
  {
   "cell_type": "markdown",
   "metadata": {
    "slideshow": {
     "slide_type": "slide"
    }
   },
   "source": [
    "Computational Statistics as an example of Computational Thinking\n",
    "-------\n",
    "\n",
    "- Requires understanding a problem\n",
    "- Brainstorming solutions\n",
    "- Implementing the most feasible solution for the given context\n",
    "- Empirically testing/evaluating the solution. "
   ]
  },
  {
   "cell_type": "markdown",
   "metadata": {
    "slideshow": {
     "slide_type": "slide"
    }
   },
   "source": [
    "By The End Of This Workshop, You Should Be Able To:\n",
    "----\n",
    "\n",
    "1. Explain how computational statistics can solve problems\n",
    "1. Write Pythonic code using `random` and `statistics` module\n",
    "1. Solve common statistical problems through simulation"
   ]
  },
  {
   "cell_type": "markdown",
   "metadata": {
    "slideshow": {
     "slide_type": "slide"
    }
   },
   "source": [
    "Why Python?\n",
    "-----\n",
    "Python makes it easy (and possibly joyful) to take a computational approach to statistics. "
   ]
  },
  {
   "cell_type": "markdown",
   "metadata": {
    "slideshow": {
     "slide_type": "slide"
    }
   },
   "source": [
    "Today's tools\n",
    "------\n",
    "\n",
    "- Jupyter Notebook\n",
    "- GitHub\n",
    "- Colab"
   ]
  },
  {
   "cell_type": "markdown",
   "metadata": {
    "slideshow": {
     "slide_type": "notes"
    }
   },
   "source": [
    "All materials will post immediately after class"
   ]
  },
  {
   "cell_type": "markdown",
   "metadata": {
    "slideshow": {
     "slide_type": "slide"
    }
   },
   "source": [
    "Workshop style\n",
    "------\n",
    "\n",
    "- Problem ⇒ Solution (not a list of techniques and terms)"
   ]
  },
  {
   "cell_type": "markdown",
   "metadata": {
    "slideshow": {
     "slide_type": "fragment"
    }
   },
   "source": [
    "Minimize:\n",
    "    \n",
    "- Jargon\n",
    "- Math\n",
    "- Theory"
   ]
  },
  {
   "cell_type": "markdown",
   "metadata": {
    "slideshow": {
     "slide_type": "slide"
    }
   },
   "source": [
    "Caveat\n",
    "-----\n",
    "\n",
    "Presenting the strong view of computational statistics.\n",
    "\n",
    "There will be almost no math or analytical statistics."
   ]
  },
  {
   "cell_type": "markdown",
   "metadata": {
    "slideshow": {
     "slide_type": "fragment"
    }
   },
   "source": [
    "When I solve problems, I use the best tool possible. Often it is a combination of mathematical and computational tools.\n",
    "\n",
    "I'm only presenting the computational perspective so we can immerse ourselves in that world-view."
   ]
  },
  {
   "cell_type": "markdown",
   "metadata": {
    "slideshow": {
     "slide_type": "slide"
    }
   },
   "source": [
    "Workshop style\n",
    "------\n",
    "\n",
    "- I talk (a little)\n",
    "- I do (a little more)\n",
    "- You think and do (a lot)"
   ]
  },
  {
   "cell_type": "markdown",
   "metadata": {
    "slideshow": {
     "slide_type": "fragment"
    }
   },
   "source": [
    "- Ask questions at anytime. Any questions now?"
   ]
  },
  {
   "cell_type": "markdown",
   "metadata": {
    "slideshow": {
     "slide_type": "slide"
    }
   },
   "source": [
    " "
   ]
  }
 ],
 "metadata": {
  "celltoolbar": "Slideshow",
  "kernelspec": {
   "display_name": "Python 3",
   "language": "python",
   "name": "python3"
  },
  "language_info": {
   "codemirror_mode": {
    "name": "ipython",
    "version": 3
   },
   "file_extension": ".py",
   "mimetype": "text/x-python",
   "name": "python",
   "nbconvert_exporter": "python",
   "pygments_lexer": "ipython3",
   "version": "3.7.2"
  }
 },
 "nbformat": 4,
 "nbformat_minor": 2
}
