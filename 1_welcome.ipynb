{
 "cells": [
  {
   "cell_type": "markdown",
   "metadata": {
    "slideshow": {
     "slide_type": "slide"
    }
   },
   "source": [
    "<center><img src=\"images/di.png\" width=\"75%\"/></center>\n",
    "<center><h2>An Introduction to Computational Statistics in Python</h2></center>\n",
    "<center><h2>Brian Spiering</h2></center>"
   ]
  },
  {
   "cell_type": "markdown",
   "metadata": {
    "slideshow": {
     "slide_type": "slide"
    }
   },
   "source": [
    "While we are waiting to start\n",
    "------\n",
    "\n",
    "1. Get your laptop on the wifi:\n",
    "    - `USF-Visitors network` is the network.\n",
    "    - Send your new username and password to your your phone.\n",
    "    - Then manually type that information on your laptop.\n",
    "1. Check out the GitHub - [bit.ly/comp-stats](http://bit.ly/comp-stats)\n",
    "1. Ask Brian any questions.\n",
    "1. Introduce yourself to your neighbor. We'll be coding together today."
   ]
  },
  {
   "cell_type": "markdown",
   "metadata": {
    "slideshow": {
     "slide_type": "notes"
    }
   },
   "source": [
    "Resources\n",
    "------\n",
    "\n",
    "- https://myusf.usfca.edu/services/network-guest-access\n",
    "- https://github.com/brianspiering/ComputationalStatistics"
   ]
  },
  {
   "cell_type": "markdown",
   "metadata": {
    "slideshow": {
     "slide_type": "slide"
    }
   },
   "source": [
    "Agenda\n",
    "------\n",
    "\n",
    "1. Introductions\n",
    "1. Statistics in Computational Style\n",
    "1. Bootstrapping\n",
    "1. Break\n",
    "1. Permutation Testing"
   ]
  },
  {
   "cell_type": "markdown",
   "metadata": {
    "slideshow": {
     "slide_type": "slide"
    }
   },
   "source": [
    "Who am I?\n",
    "------\n",
    "\n",
    "Former aceademic Computational Neuroscientist \n",
    "\n",
    "Former industry Data Scienctist\n",
    "\n",
    "Currently faculty at USF's MS in Data Science program"
   ]
  },
  {
   "cell_type": "markdown",
   "metadata": {},
   "source": [
    "By The End Of This Workshop, You Should Be Able To:\n",
    "----\n",
    "\n",
    "1. Explain the connection between analytical and computational statistics\n",
    "1. Write Pythonic code using random and statistics module\n",
    "1. Solve common statistical problems through simulation\n"
   ]
  },
  {
   "cell_type": "markdown",
   "metadata": {
    "slideshow": {
     "slide_type": "slide"
    }
   },
   "source": [
    "A Computational Take on Statistics\n",
    "-------\n",
    "\n",
    "Historically, statistics has been analytic and theoretically driven.\n",
    "\n",
    "This is an inverted approach - computational and empirically movtivated."
   ]
  },
  {
   "cell_type": "markdown",
   "metadata": {},
   "source": [
    "The goal is to leveage efficient compute and resampling techniques (e.g., bootstrapping and permutation tests) to build statistics from first principles. Use that new foundation to solve novel problems.\n",
    "\n"
   ]
  },
  {
   "cell_type": "markdown",
   "metadata": {},
   "source": [
    "Why Python?\n",
    "-----\n",
    "Python makes it easy (and possibly joyfule) to take a computational approach to stastices. "
   ]
  },
  {
   "cell_type": "markdown",
   "metadata": {},
   "source": []
  },
  {
   "cell_type": "markdown",
   "metadata": {},
   "source": [
    "Workshop style\n",
    "------\n",
    "- I talk (a little)\n",
    "    - problem \n",
    "    - solution\n",
    "- I do (a little more)\n",
    "- You do (a lot)"
   ]
  },
  {
   "cell_type": "markdown",
   "metadata": {},
   "source": [
    "Jupyter Notebook\n",
    "-------\n"
   ]
  },
  {
   "cell_type": "code",
   "execution_count": null,
   "metadata": {},
   "outputs": [],
   "source": [
    "Colab\n",
    "----"
   ]
  },
  {
   "cell_type": "code",
   "execution_count": null,
   "metadata": {},
   "outputs": [],
   "source": [
    "GitHub\n",
    "------\n"
   ]
  },
  {
   "cell_type": "code",
   "execution_count": null,
   "metadata": {},
   "outputs": [],
   "source": []
  },
  {
   "cell_type": "code",
   "execution_count": null,
   "metadata": {},
   "outputs": [],
   "source": []
  },
  {
   "cell_type": "code",
   "execution_count": null,
   "metadata": {},
   "outputs": [],
   "source": []
  },
  {
   "cell_type": "code",
   "execution_count": null,
   "metadata": {},
   "outputs": [],
   "source": []
  }
 ],
 "metadata": {
  "celltoolbar": "Slideshow",
  "kernelspec": {
   "display_name": "Python 3",
   "language": "python",
   "name": "python3"
  },
  "language_info": {
   "codemirror_mode": {
    "name": "ipython",
    "version": 3
   },
   "file_extension": ".py",
   "mimetype": "text/x-python",
   "name": "python",
   "nbconvert_exporter": "python",
   "pygments_lexer": "ipython3",
   "version": "3.7.2"
  }
 },
 "nbformat": 4,
 "nbformat_minor": 2
}
