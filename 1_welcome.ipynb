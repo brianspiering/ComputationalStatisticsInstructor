{
 "cells": [
  {
   "cell_type": "markdown",
   "metadata": {
    "slideshow": {
     "slide_type": "slide"
    }
   },
   "source": [
    "# <center><img src=\"images/di.png\" width=\"85%\"/></center>\n",
    "<center><h2>An Introduction to<br> Computational Statistics in Python</h2></center>\n",
    "<center><h2>Brian Spiering</h2></center>"
   ]
  },
  {
   "cell_type": "markdown",
   "metadata": {
    "slideshow": {
     "slide_type": "slide"
    }
   },
   "source": [
    "<center><h2>While we are waiting to start …</h2></center>\n",
    "\n",
    "1. Get your laptop on the wifi \n",
    "    - Network: `USF-DIConf`\n",
    "    - Password: `usf@downtown`\n",
    "1. Check out the GitHub repo for the workshop - [bit.ly/comp-stats](http://bit.ly/comp-stats)\n",
    "1. Ask Brian any questions.\n",
    "1. Introduce yourself to your neighbor. We'll be coding together today."
   ]
  },
  {
   "cell_type": "markdown",
   "metadata": {
    "slideshow": {
     "slide_type": "notes"
    }
   },
   "source": [
    "Resources\n",
    "------\n",
    "\n",
    "- https://myusf.usfca.edu/services/network-guest-access\n",
    "- https://github.com/brianspiering/ComputationalStatistics"
   ]
  },
  {
   "cell_type": "markdown",
   "metadata": {
    "slideshow": {
     "slide_type": "slide"
    }
   },
   "source": [
    "<center><h2>Today's Goal:</h2></center>\n",
    "\n",
    "<center>Apply Data Science fundamentals to better understand the world.</center>"
   ]
  },
  {
   "cell_type": "markdown",
   "metadata": {
    "slideshow": {
     "slide_type": "fragment"
    }
   },
   "source": [
    "By Data Science, I mean:\n",
    "- Coding\n",
    "- Counting\n",
    "- Probability\n",
    "- Visualization\n",
    "- Experimental testing"
   ]
  },
  {
   "cell_type": "markdown",
   "metadata": {
    "slideshow": {
     "slide_type": "slide"
    }
   },
   "source": [
    "<center><h2>Agenda</h2></center>\n",
    "\n",
    "1. Introductions\n",
    "1. Orientation to Computational Statistics\n",
    "1. Simulating Outcomes\n",
    "1. Permutation Testing\n",
    "1. Break\n",
    "1. Inspection Paradox"
   ]
  },
  {
   "cell_type": "markdown",
   "metadata": {
    "slideshow": {
     "slide_type": "slide"
    }
   },
   "source": [
    "<center><h2>Who am I?</h2></center>\n",
    "<br>\n",
    "Formerly, an academic Computational Neuroscientist. \n",
    "\n",
    "Formerly, an industry Data Scientist.\n",
    "\n",
    "Currently, faculty at USF's MS in Data Science program."
   ]
  },
  {
   "cell_type": "markdown",
   "metadata": {
    "slideshow": {
     "slide_type": "slide"
    }
   },
   "source": [
    "<center><h2>Who are you?</h2></center>"
   ]
  },
  {
   "cell_type": "markdown",
   "metadata": {
    "slideshow": {
     "slide_type": "fragment"
    }
   },
   "source": [
    "Raise your hand...\n",
    "\n",
    "- Have used Python before?"
   ]
  },
  {
   "cell_type": "markdown",
   "metadata": {
    "slideshow": {
     "slide_type": "fragment"
    }
   },
   "source": [
    "- Have taken a statistics class?"
   ]
  },
  {
   "cell_type": "markdown",
   "metadata": {
    "slideshow": {
     "slide_type": "fragment"
    }
   },
   "source": [
    "- Consider themselves a Data Scientist?"
   ]
  },
  {
   "cell_type": "markdown",
   "metadata": {
    "slideshow": {
     "slide_type": "slide"
    }
   },
   "source": [
    "<center><h2>A Computational Take on Statistics</h2></center>\n",
    "\n",
    "Historically, Statistics has roots in Mathematics with a focus on analytical methods. That approach made sense when data collection and computing power was expensive."
   ]
  },
  {
   "cell_type": "markdown",
   "metadata": {
    "slideshow": {
     "slide_type": "fragment"
    }
   },
   "source": [
    "Today, we'll take a Computer Science / Software Engineering approach with a focus on computational methods.\n",
    "\n",
    "That makes sense today because data collection and computing is very cheap."
   ]
  },
  {
   "cell_type": "markdown",
   "metadata": {
    "slideshow": {
     "slide_type": "fragment"
    }
   },
   "source": [
    "As a bonus - we can solve novel problems."
   ]
  },
  {
   "cell_type": "markdown",
   "metadata": {
    "slideshow": {
     "slide_type": "slide"
    }
   },
   "source": [
    "<center><h2>Caveat</h2></center>\n",
    "\n",
    "I'll be presenting a strong view of Computational Statistics.\n",
    "\n",
    "There will be almost no Mathematics or Analytical Statistics."
   ]
  },
  {
   "cell_type": "markdown",
   "metadata": {
    "slideshow": {
     "slide_type": "fragment"
    }
   },
   "source": [
    "When I solve problems, I use the most appropriate tool. It is often a combination of mathematical and computational tools.\n",
    "\n",
    "Today, I'm only presenting the computational perspective so we can immerse ourselves in that world-view."
   ]
  },
  {
   "cell_type": "markdown",
   "metadata": {
    "slideshow": {
     "slide_type": "slide"
    }
   },
   "source": [
    "<center><h2>Computational Statistics is an example of Computational Thinking</h2></center>"
   ]
  },
  {
   "cell_type": "markdown",
   "metadata": {
    "slideshow": {
     "slide_type": "slide"
    }
   },
   "source": [
    "<center><h2>Elements of Computational Thinking</h2></center>"
   ]
  },
  {
   "cell_type": "markdown",
   "metadata": {
    "slideshow": {
     "slide_type": "fragment"
    }
   },
   "source": [
    "- Deeply understanding a problem"
   ]
  },
  {
   "cell_type": "markdown",
   "metadata": {
    "slideshow": {
     "slide_type": "fragment"
    }
   },
   "source": [
    "- Brainstorming solutions"
   ]
  },
  {
   "cell_type": "markdown",
   "metadata": {
    "slideshow": {
     "slide_type": "fragment"
    }
   },
   "source": [
    "- Implementing the most feasible solution for the given context"
   ]
  },
  {
   "cell_type": "markdown",
   "metadata": {
    "slideshow": {
     "slide_type": "fragment"
    }
   },
   "source": [
    "- Empirically evaluating the solution"
   ]
  },
  {
   "cell_type": "markdown",
   "metadata": {
    "slideshow": {
     "slide_type": "slide"
    }
   },
   "source": [
    "<center><h2>Why Python?</h2></center>\n",
    "\n",
    "Python makes it easy (and possibly joyful) to compute numerical values."
   ]
  },
  {
   "cell_type": "markdown",
   "metadata": {
    "slideshow": {
     "slide_type": "slide"
    }
   },
   "source": [
    "<center><h2>Today's tools</h2></center>\n",
    "\n",
    "- Jupyter Notebook\n",
    "- GitHub\n",
    "- Colab"
   ]
  },
  {
   "cell_type": "markdown",
   "metadata": {
    "slideshow": {
     "slide_type": "notes"
    }
   },
   "source": [
    "All materials will post immediately after class"
   ]
  },
  {
   "cell_type": "markdown",
   "metadata": {
    "slideshow": {
     "slide_type": "slide"
    }
   },
   "source": [
    "<center><h2>Workshop style</h2></center>\n",
    "<br><br>\n",
    "<center>Problem ⇒ Solution </center>\n",
    "<center>(not a list of techniques and terms)</center>"
   ]
  },
  {
   "cell_type": "markdown",
   "metadata": {
    "slideshow": {
     "slide_type": "fragment"
    }
   },
   "source": [
    "Minimize:\n",
    "    \n",
    "- Jargon\n",
    "- Math\n",
    "- Theory"
   ]
  },
  {
   "cell_type": "markdown",
   "metadata": {
    "slideshow": {
     "slide_type": "slide"
    }
   },
   "source": [
    "<center><h2>Workshop style</h2></center>\n",
    "\n",
    "1. I talk (a little)\n",
    "2. I do (a little more)\n",
    "3. You think and do (a lot)"
   ]
  },
  {
   "cell_type": "markdown",
   "metadata": {
    "slideshow": {
     "slide_type": "slide"
    }
   },
   "source": [
    "<center><h2>Ask questions at anytime. </h2></center>\n"
   ]
  },
  {
   "cell_type": "markdown",
   "metadata": {
    "slideshow": {
     "slide_type": "fragment"
    }
   },
   "source": [
    "<br>\n",
    "<br>\n",
    "<center><h2>Any questions now?</h2></center>"
   ]
  },
  {
   "cell_type": "markdown",
   "metadata": {
    "slideshow": {
     "slide_type": "slide"
    }
   },
   "source": [
    " "
   ]
  }
 ],
 "metadata": {
  "celltoolbar": "Slideshow",
  "kernelspec": {
   "display_name": "Python 3",
   "language": "python",
   "name": "python3"
  },
  "language_info": {
   "codemirror_mode": {
    "name": "ipython",
    "version": 3
   },
   "file_extension": ".py",
   "mimetype": "text/x-python",
   "name": "python",
   "nbconvert_exporter": "python",
   "pygments_lexer": "ipython3",
   "version": "3.7.2"
  }
 },
 "nbformat": 4,
 "nbformat_minor": 2
}
