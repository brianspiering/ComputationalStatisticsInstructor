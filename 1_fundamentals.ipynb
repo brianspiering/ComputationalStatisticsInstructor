{
 "cells": [
  {
   "cell_type": "markdown",
   "metadata": {},
   "source": [
    "Computational Take on Statistics\n",
    "========"
   ]
  },
  {
   "cell_type": "markdown",
   "metadata": {},
   "source": [
    "HT: \n",
    "----\n",
    "\n",
    "- [Python's Standard Library Examples for random module](https://docs.python.org/3/library/random.html#examples-and-recipes)\n",
    "- Raymond Hettinger's _Modern Python: Big Ideas and Little Code in Python_\n",
    "    - [video](https://www.amazon.com/Lesson-Implementing-k-means-Unsupervised-Learning/dp/B0782H9R1B)\n",
    "    - [code](https://github.com/rhettinger/modernpython)\n",
    "\n"
   ]
  },
  {
   "cell_type": "markdown",
   "metadata": {},
   "source": [
    "Simulations\n",
    "------"
   ]
  },
  {
   "cell_type": "code",
   "execution_count": 13,
   "metadata": {},
   "outputs": [],
   "source": [
    "reset -fs"
   ]
  },
  {
   "cell_type": "code",
   "execution_count": 14,
   "metadata": {},
   "outputs": [],
   "source": [
    "from random import * # Just for demostration purposes only"
   ]
  },
  {
   "cell_type": "code",
   "execution_count": 15,
   "metadata": {},
   "outputs": [],
   "source": [
    "# Traditional die: A cube\n",
    "n_sides = 6"
   ]
  },
  {
   "cell_type": "code",
   "execution_count": 16,
   "metadata": {},
   "outputs": [
    {
     "data": {
      "text/plain": [
       "[5]"
      ]
     },
     "execution_count": 16,
     "metadata": {},
     "output_type": "execute_result"
    }
   ],
   "source": [
    "# Roll a die\n",
    "choices(population=list(range(1, n_sides+1)))"
   ]
  },
  {
   "cell_type": "code",
   "execution_count": 17,
   "metadata": {},
   "outputs": [
    {
     "data": {
      "text/plain": [
       "[6, 6]"
      ]
     },
     "execution_count": 17,
     "metadata": {},
     "output_type": "execute_result"
    }
   ],
   "source": [
    "# Roll 2 dice\n",
    "roll_2_dice = (lambda: choices(population=list(range(1, n_sides+1)),\n",
    "                      k=2))\n",
    "roll_2_dice()"
   ]
  },
  {
   "cell_type": "code",
   "execution_count": 18,
   "metadata": {},
   "outputs": [],
   "source": [
    "# TODO:  Simulate rolling a sum of seven\n"
   ]
  },
  {
   "cell_type": "code",
   "execution_count": 19,
   "metadata": {},
   "outputs": [
    {
     "data": {
      "text/plain": [
       "['red', 'black', 'black', 'red', 'red', 'red']"
      ]
     },
     "execution_count": 19,
     "metadata": {},
     "output_type": "execute_result"
    }
   ],
   "source": [
    "# Six roulette wheel spins (weighted sampling with replacement)\n",
    "choices(population=['red', 'black', 'green'], \n",
    "        weights=[18, 18, 2], \n",
    "        k=6)"
   ]
  },
  {
   "cell_type": "code",
   "execution_count": 20,
   "metadata": {},
   "outputs": [],
   "source": [
    "# Deal cards from a deck \n"
   ]
  },
  {
   "cell_type": "code",
   "execution_count": 21,
   "metadata": {},
   "outputs": [],
   "source": [
    "import collections\n",
    "deck = collections.Counter(tens=16, low_cards=36)"
   ]
  },
  {
   "cell_type": "code",
   "execution_count": 22,
   "metadata": {},
   "outputs": [
    {
     "data": {
      "text/plain": [
       "['tens',\n",
       " 'low_cards',\n",
       " 'tens',\n",
       " 'tens',\n",
       " 'tens',\n",
       " 'low_cards',\n",
       " 'tens',\n",
       " 'low_cards',\n",
       " 'low_cards',\n",
       " 'low_cards',\n",
       " 'low_cards',\n",
       " 'tens',\n",
       " 'low_cards',\n",
       " 'low_cards',\n",
       " 'low_cards',\n",
       " 'low_cards',\n",
       " 'low_cards',\n",
       " 'low_cards',\n",
       " 'low_cards',\n",
       " 'low_cards']"
      ]
     },
     "execution_count": 22,
     "metadata": {},
     "output_type": "execute_result"
    }
   ],
   "source": [
    "# Counting cards with Python\n",
    "n_cards = 20\n",
    "seen = sample(list(deck.elements()), # (without replacement) \n",
    "              k=n_cards) \n",
    "seen"
   ]
  },
  {
   "cell_type": "code",
   "execution_count": 23,
   "metadata": {},
   "outputs": [
    {
     "data": {
      "text/plain": [
       "0.3"
      ]
     },
     "execution_count": 23,
     "metadata": {},
     "output_type": "execute_result"
    }
   ],
   "source": [
    "# Determine the proportion of cards with a ten-value (a ten, jack, queen, or king).\n",
    "seen.count('tens') / n_cards"
   ]
  },
  {
   "cell_type": "markdown",
   "metadata": {},
   "source": [
    "Hit or not?"
   ]
  },
  {
   "cell_type": "markdown",
   "metadata": {},
   "source": [
    "Biased coin\n",
    "------"
   ]
  },
  {
   "cell_type": "code",
   "execution_count": 24,
   "metadata": {},
   "outputs": [],
   "source": [
    "# Bernouli Trial\n",
    "trial = (lambda: choices(population='HT', # 2 sided coin\n",
    "                        cum_weights=(0.60, 1.00), # Bias - Settles on heads 60% of the time.\n",
    "                        k=7) # Number of spins (not flips)\n",
    "                 .count('H') >= 5) # Five Heads / Successes"
   ]
  },
  {
   "cell_type": "code",
   "execution_count": 25,
   "metadata": {},
   "outputs": [
    {
     "data": {
      "text/plain": [
       "True"
      ]
     },
     "execution_count": 25,
     "metadata": {},
     "output_type": "execute_result"
    }
   ],
   "source": [
    "trial()"
   ]
  },
  {
   "cell_type": "code",
   "execution_count": 26,
   "metadata": {},
   "outputs": [
    {
     "data": {
      "text/plain": [
       "0.41966"
      ]
     },
     "execution_count": 26,
     "metadata": {},
     "output_type": "execute_result"
    }
   ],
   "source": [
    "n_trials = 100_000\n",
    "sum(trial() for _ in range(n_trials)) / n_trials"
   ]
  },
  {
   "cell_type": "code",
   "execution_count": 27,
   "metadata": {},
   "outputs": [
    {
     "data": {
      "text/plain": [
       "0.7939"
      ]
     },
     "execution_count": 27,
     "metadata": {},
     "output_type": "execute_result"
    }
   ],
   "source": [
    "# Probability of the median of 5 samples being in middle two quartiles\n",
    "trial = lambda: 2500 <= sorted(choices(range(10000), k=5))[2]  < 7500\n",
    "sum(trial() for i in range(10000)) / 10000"
   ]
  },
  {
   "cell_type": "markdown",
   "metadata": {},
   "source": [
    "Bootstrapping\n",
    "------"
   ]
  },
  {
   "cell_type": "markdown",
   "metadata": {},
   "source": [
    "http://statistics.about.com/od/Applications/a/Example-Of-Bootstrapping.htm\n"
   ]
  },
  {
   "cell_type": "markdown",
   "metadata": {},
   "source": [
    "Under usual circumstances, sample sizes of less than 40 cannot be dealt with by assuming a normal distribution or a t distribution. Bootstrap techniques work quite well with samples that have less than 40 elements. "
   ]
  },
  {
   "cell_type": "markdown",
   "metadata": {},
   "source": [
    "What about Big Data?\n",
    "\n",
    "Yes - aggregated.\n",
    "\n",
    "But often you want to disaggreant / segment\n",
    " \n",
    "or personalize!"
   ]
  },
  {
   "cell_type": "code",
   "execution_count": 28,
   "metadata": {},
   "outputs": [],
   "source": [
    "from statistics import mean"
   ]
  },
  {
   "cell_type": "code",
   "execution_count": 29,
   "metadata": {},
   "outputs": [
    {
     "data": {
      "text/plain": [
       "[2,\n",
       " 2.4,\n",
       " 2.6,\n",
       " 2.8,\n",
       " 3.2,\n",
       " 3.6,\n",
       " 4,\n",
       " 4.2,\n",
       " 4.2,\n",
       " 4.4,\n",
       " 4.6,\n",
       " 4.6,\n",
       " 5.2,\n",
       " 5.4,\n",
       " 5.4,\n",
       " 5.8,\n",
       " 6,\n",
       " 7,\n",
       " 7.2,\n",
       " 7.6]"
      ]
     },
     "execution_count": 29,
     "metadata": {},
     "output_type": "execute_result"
    }
   ],
   "source": [
    "data = 1, 2, 4, 4, 10\n",
    "means = sorted(mean(choices(data, k=5)) \n",
    "               for i in range(20))\n",
    "means"
   ]
  },
  {
   "cell_type": "code",
   "execution_count": null,
   "metadata": {},
   "outputs": [],
   "source": []
  },
  {
   "cell_type": "markdown",
   "metadata": {},
   "source": [
    "Confidence interval"
   ]
  },
  {
   "cell_type": "code",
   "execution_count": 30,
   "metadata": {},
   "outputs": [
    {
     "name": "stdout",
     "output_type": "stream",
     "text": [
      "The sample mean of 4.2\n",
      "90% confidence interval from 2.4 to 7.2\n"
     ]
    }
   ],
   "source": [
    "print(f'The sample mean of {mean(data):.1f}')\n",
    "print(f'90% confidence interval from {means[1]:.1f} to {means[-2]:.1f}')"
   ]
  },
  {
   "cell_type": "code",
   "execution_count": 31,
   "metadata": {},
   "outputs": [],
   "source": [
    "# TODO: make a function with n samples parameters"
   ]
  },
  {
   "cell_type": "markdown",
   "metadata": {},
   "source": [
    "-----"
   ]
  },
  {
   "cell_type": "code",
   "execution_count": 32,
   "metadata": {},
   "outputs": [
    {
     "name": "stdout",
     "output_type": "stream",
     "text": [
      "10,000 label reshufflings produced only 11 instances with a difference\n",
      "at least as extreme as the observed difference of 13.0.\n",
      "The one-sided p-value of 0.0011 leads us to reject the null\n",
      "hypothesis that there is no difference between the drug and the placebo.\n"
     ]
    }
   ],
   "source": [
    "# Example from \"Statistics is Easy\" by Dennis Shasha and Manda Wilson\n",
    "from statistics import mean\n",
    "\n",
    "drug = [54, 73, 53, 70, 73, 68, 52, 65, 65]\n",
    "placebo = [54, 51, 58, 44, 55, 52, 42, 47, 58, 46]\n",
    "observed_diff = mean(drug) - mean(placebo)\n",
    "\n",
    "n = 10000\n",
    "count = 0\n",
    "combined = drug + placebo\n",
    "for i in range(n):\n",
    "    shuffle(combined)\n",
    "    new_diff = mean(combined[:len(drug)]) - mean(combined[len(drug):])\n",
    "    count += (new_diff >= observed_diff)\n",
    "\n",
    "print(f'{n:,} label reshufflings produced only {count} instances with a difference')\n",
    "print(f'at least as extreme as the observed difference of {observed_diff:.1f}.')\n",
    "print(f'The one-sided p-value of {count / n:.4f} leads us to reject the null')\n",
    "print(f'hypothesis that there is no difference between the drug and the placebo.')"
   ]
  },
  {
   "cell_type": "code",
   "execution_count": null,
   "metadata": {},
   "outputs": [],
   "source": []
  },
  {
   "cell_type": "code",
   "execution_count": null,
   "metadata": {},
   "outputs": [],
   "source": []
  },
  {
   "cell_type": "code",
   "execution_count": null,
   "metadata": {},
   "outputs": [],
   "source": []
  },
  {
   "cell_type": "code",
   "execution_count": null,
   "metadata": {},
   "outputs": [],
   "source": []
  },
  {
   "cell_type": "code",
   "execution_count": null,
   "metadata": {},
   "outputs": [],
   "source": []
  },
  {
   "cell_type": "markdown",
   "metadata": {},
   "source": [
    "Bonus Material\n",
    "-----"
   ]
  },
  {
   "cell_type": "markdown",
   "metadata": {},
   "source": [
    "Simulation of arrival times and service deliveries in a single server queue:"
   ]
  },
  {
   "cell_type": "code",
   "execution_count": 33,
   "metadata": {},
   "outputs": [
    {
     "name": "stdout",
     "output_type": "stream",
     "text": [
      "Mean wait: 18.8.  Stdev wait: 18.6.\n",
      "Median wait: 12.8.  Max wait: 100.4.\n"
     ]
    }
   ],
   "source": [
    "from statistics import mean, median, stdev\n",
    "\n",
    "average_arrival_interval = 5.6\n",
    "average_service_time = 5.0\n",
    "stdev_service_time = 0.5\n",
    "\n",
    "num_waiting = 0\n",
    "arrivals = []\n",
    "starts = []\n",
    "arrival = service_end = 0.0\n",
    "for i in range(20000):\n",
    "    if arrival <= service_end:\n",
    "        num_waiting += 1\n",
    "        arrival += expovariate(1.0 / average_arrival_interval)\n",
    "        arrivals.append(arrival)\n",
    "    else:\n",
    "        num_waiting -= 1\n",
    "        service_start = service_end if num_waiting else arrival\n",
    "        service_time = gauss(average_service_time, stdev_service_time)\n",
    "        service_end = service_start + service_time\n",
    "        starts.append(service_start)\n",
    "\n",
    "waits = [start - arrival for arrival, start in zip(arrivals, starts)]\n",
    "print(f'Mean wait: {mean(waits):.1f}.  Stdev wait: {stdev(waits):.1f}.')\n",
    "print(f'Median wait: {median(waits):.1f}.  Max wait: {max(waits):.1f}.')"
   ]
  },
  {
   "cell_type": "code",
   "execution_count": null,
   "metadata": {},
   "outputs": [],
   "source": []
  },
  {
   "cell_type": "code",
   "execution_count": null,
   "metadata": {},
   "outputs": [],
   "source": []
  }
 ],
 "metadata": {
  "kernelspec": {
   "display_name": "Python 3",
   "language": "python",
   "name": "python3"
  },
  "language_info": {
   "codemirror_mode": {
    "name": "ipython",
    "version": 3
   },
   "file_extension": ".py",
   "mimetype": "text/x-python",
   "name": "python",
   "nbconvert_exporter": "python",
   "pygments_lexer": "ipython3",
   "version": "3.6.5"
  }
 },
 "nbformat": 4,
 "nbformat_minor": 2
}
