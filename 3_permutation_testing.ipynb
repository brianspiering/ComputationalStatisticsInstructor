{
 "cells": [
  {
   "cell_type": "markdown",
   "metadata": {
    "slideshow": {
     "slide_type": "slide"
    }
   },
   "source": [
    "<center><h1>Computational Statistics:</h1></center>\n",
    "<center><h1>Permutation Testing</h1></center>"
   ]
  },
  {
   "cell_type": "markdown",
   "metadata": {
    "slideshow": {
     "slide_type": "slide"
    }
   },
   "source": [
    "Preview\n",
    "-------\n",
    "\n",
    "- Use a for-loop and a random number generator to construct statistical tests"
   ]
  },
  {
   "cell_type": "code",
   "execution_count": 208,
   "metadata": {
    "slideshow": {
     "slide_type": "notes"
    }
   },
   "outputs": [],
   "source": [
    "reset -fs"
   ]
  },
  {
   "cell_type": "markdown",
   "metadata": {
    "slideshow": {
     "slide_type": "slide"
    }
   },
   "source": [
    "<center><h2>Is a drug effective or not?</h2></center>"
   ]
  },
  {
   "cell_type": "code",
   "execution_count": 209,
   "metadata": {
    "slideshow": {
     "slide_type": "fragment"
    }
   },
   "outputs": [],
   "source": [
    "drug    = [54, 73, 53, 70, 73, 68, 52, 65, 65]\n",
    "placebo = [54, 51, 58, 44, 55, 52, 42, 47, 58, 46]"
   ]
  },
  {
   "cell_type": "markdown",
   "metadata": {
    "slideshow": {
     "slide_type": "fragment"
    }
   },
   "source": [
    "What are the steps to test that hypothesis?"
   ]
  },
  {
   "cell_type": "markdown",
   "metadata": {
    "slideshow": {
     "slide_type": "fragment"
    }
   },
   "source": [
    "1. Calculate the mean difference between the two groups\n",
    "1. Collect evidence if that mean difference could happen by chance\n",
    "1. Make a decision - is the difference between due to chance or not?"
   ]
  },
  {
   "cell_type": "code",
   "execution_count": 210,
   "metadata": {
    "slideshow": {
     "slide_type": "slide"
    }
   },
   "outputs": [],
   "source": [
    "# Python's statitics module provides functions for calculating mathematical statistics of numeric (real-valued) data\n",
    "from statistics import mean"
   ]
  },
  {
   "cell_type": "code",
   "execution_count": 211,
   "metadata": {
    "slideshow": {
     "slide_type": "fragment"
    }
   },
   "outputs": [],
   "source": [
    "from statistics import mean"
   ]
  },
  {
   "cell_type": "code",
   "execution_count": 212,
   "metadata": {
    "slideshow": {
     "slide_type": "fragment"
    }
   },
   "outputs": [
    {
     "name": "stdout",
     "output_type": "stream",
     "text": [
      "12.97\n"
     ]
    }
   ],
   "source": [
    "observed_diff = mean(drug) - mean(placebo)\n",
    "print(f\"{observed_diff:.2f}\")"
   ]
  },
  {
   "cell_type": "markdown",
   "metadata": {
    "slideshow": {
     "slide_type": "fragment"
    }
   },
   "source": [
    "That number is ugly and hard to read. "
   ]
  },
  {
   "cell_type": "code",
   "execution_count": 213,
   "metadata": {
    "slideshow": {
     "slide_type": "slide"
    }
   },
   "outputs": [],
   "source": [
    "# Use formated strings to create a human-readable view of data\n"
   ]
  },
  {
   "cell_type": "code",
   "execution_count": 214,
   "metadata": {
    "slideshow": {
     "slide_type": "notes"
    }
   },
   "outputs": [
    {
     "name": "stdout",
     "output_type": "stream",
     "text": [
      "12.97\n"
     ]
    }
   ],
   "source": [
    "print(f\"{observed_diff:.2f}\")"
   ]
  },
  {
   "cell_type": "code",
   "execution_count": 215,
   "metadata": {
    "slideshow": {
     "slide_type": "slide"
    }
   },
   "outputs": [
    {
     "data": {
      "image/png": "[encoded data removed]",
      "text/plain": [
       "<Figure size 432x288 with 1 Axes>"
      ]
     },
     "metadata": {
      "needs_background": "light"
     },
     "output_type": "display_data"
    }
   ],
   "source": [
    "# Always visually inspect your data\n",
    "import matplotlib.pylab as plt\n",
    "import seaborn as sns # A library for statical plotting\n",
    "\n",
    "%matplotlib inline\n",
    "\n",
    "sns.distplot(drug, color=\"skyblue\", label=\"Drug\", kde=False);\n",
    "sns.distplot(placebo, color=\"red\", label=\"Placebo\", kde=False);\n",
    "plt.legend(); # Seaborn plots are interoperatable with matplotlib"
   ]
  },
  {
   "cell_type": "markdown",
   "metadata": {
    "slideshow": {
     "slide_type": "slide"
    }
   },
   "source": [
    "What would look if there were no difference in the groups?\n",
    "---------\n",
    "\n"
   ]
  },
  {
   "cell_type": "markdown",
   "metadata": {
    "slideshow": {
     "slide_type": "fragment"
    }
   },
   "source": [
    "That is the same if take the data and shuffled labels."
   ]
  },
  {
   "cell_type": "code",
   "execution_count": 216,
   "metadata": {
    "slideshow": {
     "slide_type": "slide"
    }
   },
   "outputs": [],
   "source": [
    "# Unite the data\n",
    "combined = drug + placebo"
   ]
  },
  {
   "cell_type": "code",
   "execution_count": 217,
   "metadata": {
    "slideshow": {
     "slide_type": "fragment"
    }
   },
   "outputs": [
    {
     "data": {
      "text/plain": [
       "[53, 54, 65, 70, 58, 42, 44, 73, 55, 52, 47, 65, 58, 46, 52, 51, 68, 54, 73]"
      ]
     },
     "execution_count": 217,
     "metadata": {},
     "output_type": "execute_result"
    }
   ],
   "source": [
    "from random import shuffle\n",
    "\n",
    "shuffle(combined) # Rearrange in-place\n",
    "combined"
   ]
  },
  {
   "cell_type": "code",
   "execution_count": 218,
   "metadata": {
    "slideshow": {
     "slide_type": "slide"
    }
   },
   "outputs": [
    {
     "data": {
      "image/png": "[encoded data removed]",
      "text/plain": [
       "<Figure size 432x288 with 1 Axes>"
      ]
     },
     "metadata": {
      "needs_background": "light"
     },
     "output_type": "display_data"
    }
   ],
   "source": [
    "shuffle(combined) # Rearrange in-place\n",
    "\n",
    "# Randomly assign to drug and placebo group\n",
    "drug_random = combined[len(drug):]\n",
    "placebo_random = combined[:len(drug)]\n",
    "\n",
    "sns.distplot(drug_random, color=\"skyblue\", label=\"Drug\", kde=False);\n",
    "sns.distplot(placebo_random, color=\"red\", label=\"Placebo\", kde=False);\n",
    "plt.legend();"
   ]
  },
  {
   "cell_type": "code",
   "execution_count": 219,
   "metadata": {
    "slideshow": {
     "slide_type": "slide"
    }
   },
   "outputs": [],
   "source": [
    "# Let's simulate it a bunch of times\n",
    "n = 10_000\n",
    "count = 0\n",
    "\n",
    "for _ in range(n):\n",
    "    shuffle(combined)\n",
    "    shuffled_diff = mean(combined[:len(drug)]) - mean(combined[len(drug):])\n",
    "    count += (shuffled_diff >= observed_diff)"
   ]
  },
  {
   "cell_type": "code",
   "execution_count": 220,
   "metadata": {
    "slideshow": {
     "slide_type": "fragment"
    }
   },
   "outputs": [
    {
     "name": "stdout",
     "output_type": "stream",
     "text": [
      "10,000 label reshufflings produced only 11 instances \n",
      "with a difference at least as extreme as the observed difference of 13.0.\n"
     ]
    }
   ],
   "source": [
    "print(f\"\"\"{n:,} label reshufflings produced only {count} instances \n",
    "with a difference at least as extreme as the observed difference of {observed_diff:.1f}.\"\"\")"
   ]
  },
  {
   "cell_type": "markdown",
   "metadata": {
    "slideshow": {
     "slide_type": "slide"
    }
   },
   "source": [
    "<center><h2>What is the chance of that happening?</h2></center>"
   ]
  },
  {
   "cell_type": "markdown",
   "metadata": {
    "slideshow": {
     "slide_type": "fragment"
    }
   },
   "source": [
    "We need the probability no difference, aka the p-values."
   ]
  },
  {
   "cell_type": "code",
   "execution_count": 221,
   "metadata": {
    "slideshow": {
     "slide_type": "fragment"
    }
   },
   "outputs": [
    {
     "data": {
      "text/plain": [
       "0.0011"
      ]
     },
     "execution_count": 221,
     "metadata": {},
     "output_type": "execute_result"
    }
   ],
   "source": [
    "# The p-value is chance of observing the current difference when there is truly no difference\n",
    "count / n"
   ]
  },
  {
   "cell_type": "markdown",
   "metadata": {
    "slideshow": {
     "slide_type": "slide"
    }
   },
   "source": [
    "<center><h2>Any Questions?</h2></center>\n",
    "<br>\n",
    "<center><h2>(There has to be! P-values are one of the most confusing in Statistics.)</h2></center>"
   ]
  },
  {
   "cell_type": "markdown",
   "metadata": {
    "slideshow": {
     "slide_type": "slide"
    }
   },
   "source": [
    "<center><h2><center><h2>What conclusion should we draw?</h2></center></h2></center>"
   ]
  },
  {
   "cell_type": "markdown",
   "metadata": {
    "slideshow": {
     "slide_type": "slide"
    }
   },
   "source": [
    "<center><img src=\"images/p_values.png\" width=\"40%\"/></center>"
   ]
  },
  {
   "cell_type": "markdown",
   "metadata": {
    "slideshow": {
     "slide_type": "slide"
    }
   },
   "source": [
    "<center><h2><center><h2>What conclusion should we draw?</h2></center></h2></center>"
   ]
  },
  {
   "cell_type": "markdown",
   "metadata": {
    "slideshow": {
     "slide_type": "fragment"
    }
   },
   "source": [
    "There is a difference between the drug and the placebo groups."
   ]
  },
  {
   "cell_type": "markdown",
   "metadata": {
    "slideshow": {
     "slide_type": "fragment"
    }
   },
   "source": [
    "Reject the null hypothesis. "
   ]
  },
  {
   "cell_type": "markdown",
   "metadata": {
    "slideshow": {
     "slide_type": "slide"
    }
   },
   "source": [
    "<center><h2>Analytical vs Computational Hypothesis Testing</h2></center>"
   ]
  },
  {
   "cell_type": "markdown",
   "metadata": {
    "slideshow": {
     "slide_type": "slide"
    }
   },
   "source": [
    "<center><h2>Analytical Hypothesis Testing Steps</h2></center>\n",
    "\n",
    "1. Setup testing framework\n",
    "    1. Create null and alternative hypothesis\n",
    "    1. Set α, the threshold for rejecting differences\n",
    "1. Collect data\n",
    "1. Pick and calculate a test statistic\n",
    "1. Calculate p-value\n",
    "1. Draw conclusion"
   ]
  },
  {
   "cell_type": "markdown",
   "metadata": {
    "slideshow": {
     "slide_type": "slide"
    }
   },
   "source": [
    "<center><h2>Computational Hypothesis Testing Steps</h2></center>\n",
    "\n",
    "1. Setup testing framework\n",
    "    1. Create null and alternative hypothesis\n",
    "    1. Set α\n",
    "1. Collect data\n",
    "1. __Iterate while shuffling data to simulate null effect__\n",
    "1. Calculate p-value \n",
    "1. Draw conclusion"
   ]
  },
  {
   "cell_type": "markdown",
   "metadata": {
    "slideshow": {
     "slide_type": "slide"
    }
   },
   "source": [
    "<center><h2>Analytical vs Computational Hypothesis</h2></center>\n",
    "\n",
    "__All of the steps are the same except one.__\n",
    "\n",
    "The only difference is:\n",
    "\n",
    "- Analytical methods uses domain and theoretical knowledge to pick the sampling distribution and test statistic.\n",
    "- Computational methods use fundamental computing (looping and random number generator) to simulate null effects and the sampling distribution."
   ]
  },
  {
   "cell_type": "markdown",
   "metadata": {
    "slideshow": {
     "slide_type": "slide"
    }
   },
   "source": [
    "<center><h2>Advantages of Computational Approach</h2></center>\n",
    "\n",
    "1) Analysis often dictates the test statistic; simulation lets you choose whatever test statistic is most appropriate.\n",
    "\n"
   ]
  },
  {
   "cell_type": "markdown",
   "metadata": {
    "slideshow": {
     "slide_type": "fragment"
    }
   },
   "source": [
    "2) Analytic methods are inflexible.  If you have issues like censored data, non-independence, and long-tailed distributions, you won't find an off-the-shelf test; and unless you are a mathematical statistician, you won't be able to make one.  With simulation, these kinds of issues are easy."
   ]
  },
  {
   "cell_type": "markdown",
   "metadata": {
    "slideshow": {
     "slide_type": "fragment"
    }
   },
   "source": [
    "3) When people think of analytic methods as black boxes, they often fixate on finding the right test and figuring out "
   ]
  },
  {
   "cell_type": "markdown",
   "metadata": {
    "slideshow": {
     "slide_type": "slide"
    }
   },
   "source": [
    "<center><h2>Any questions?</h2></center>"
   ]
  },
  {
   "cell_type": "markdown",
   "metadata": {
    "slideshow": {
     "slide_type": "slide"
    }
   },
   "source": [
    "<center><h2>Computational Approach to Linear Regression</h2></center>"
   ]
  },
  {
   "cell_type": "markdown",
   "metadata": {
    "slideshow": {
     "slide_type": "slide"
    }
   },
   "source": [
    "<center><h2>Research Question:</h2></center>\n",
    "<br>\n",
    "<center><h2>If I fly out of San Francisco is the cost of my flight a linear function of distance? </h2></center>"
   ]
  },
  {
   "cell_type": "code",
   "execution_count": 239,
   "metadata": {
    "slideshow": {
     "slide_type": "slide"
    }
   },
   "outputs": [],
   "source": [
    "# Airport, Distance in miles, Cost in dollars\n",
    "d = [['SAN',  501,  123],\n",
    "     ['SEA',  807,  137],\n",
    "     ['IAH', 1933,  320],\n",
    "     ['CDG', 5572,  479],\n",
    "     ['SYD', 7422,  818],\n",
    "     ['NGA', 7813,  1466],\n",
    "     ['BOM', 8398,  867],\n",
    "    ]"
   ]
  },
  {
   "cell_type": "code",
   "execution_count": 240,
   "metadata": {
    "slideshow": {
     "slide_type": "fragment"
    }
   },
   "outputs": [],
   "source": [
    "# Munge data by splitting into columns\n",
    "# Ignore airport, x is distance, y is cost\n",
    "_, x, y  = zip(*d)"
   ]
  },
  {
   "cell_type": "code",
   "execution_count": null,
   "metadata": {},
   "outputs": [],
   "source": []
  },
  {
   "cell_type": "markdown",
   "metadata": {
    "slideshow": {
     "slide_type": "notes"
    }
   },
   "source": [
    "Idea from https://blog.mrmeyer.com/2008/linear-fun-1-air-travel/\n",
    "\n",
    "Price data from www.google.com/flights retrieved 2019-03-10  \n",
    "Distance data from https://www.distance.to/SFO/"
   ]
  },
  {
   "cell_type": "code",
   "execution_count": 241,
   "metadata": {
    "slideshow": {
     "slide_type": "fragment"
    }
   },
   "outputs": [
    {
     "data": {
      "image/png": "[encoded data removed]",
      "text/plain": [
       "<Figure size 432x288 with 1 Axes>"
      ]
     },
     "metadata": {
      "needs_background": "light"
     },
     "output_type": "display_data"
    }
   ],
   "source": [
    "# What is the relationship between distance and cost?\n",
    "sns.scatterplot(x=x, y=y);"
   ]
  },
  {
   "cell_type": "code",
   "execution_count": 247,
   "metadata": {
    "slideshow": {
     "slide_type": "slide"
    }
   },
   "outputs": [
    {
     "data": {
      "image/png": "[encoded data removed]",
      "text/plain": [
       "<Figure size 432x288 with 1 Axes>"
      ]
     },
     "metadata": {
      "needs_background": "light"
     },
     "output_type": "display_data"
    }
   ],
   "source": [
    "# Let's fit a line to that data\n",
    "\n",
    "# There is a bug in Seaborn. Data cannot be in a tuple for regplot function.\n",
    "x=list(x)\n",
    "y=list(y)\n",
    "sns.regplot(x=x, y=y);"
   ]
  },
  {
   "cell_type": "markdown",
   "metadata": {
    "slideshow": {
     "slide_type": "slide"
    }
   },
   "source": [
    "<center><h2>How to estimate slope from points</h2></center>\n",
    "\n",
    "$$slope = \\frac{\\sum_{i=1}^n (x_i- \\bar x)(y_i- \\bar y)}{\\sum_{i=1}^n(x_i- \\bar x)^2}$$"
   ]
  },
  {
   "cell_type": "code",
   "execution_count": 248,
   "metadata": {
    "slideshow": {
     "slide_type": "fragment"
    }
   },
   "outputs": [],
   "source": [
    "def slope(x, y):\n",
    "    \"Caculate the estimate the slope between x and y using least square method.\"\n",
    "    x_mean = mean(x)\n",
    "    y_mean = mean(y)\n",
    "    numerator = sum((x[i]-x_mean)*(y[i]-y_mean) for i in range(len(x)))\n",
    "    denominator = sum((x[i]-x_mean)**2 for i in range(len(x)))\n",
    "    return  numerator/ denominator"
   ]
  },
  {
   "cell_type": "code",
   "execution_count": 249,
   "metadata": {
    "slideshow": {
     "slide_type": "slide"
    }
   },
   "outputs": [
    {
     "name": "stdout",
     "output_type": "stream",
     "text": [
      "0.1216\n"
     ]
    }
   ],
   "source": [
    "observed_slope = slope(x, y)\n",
    "print(f\"{observed_slope:,.4f}\")"
   ]
  },
  {
   "cell_type": "markdown",
   "metadata": {
    "slideshow": {
     "slide_type": "slide"
    }
   },
   "source": [
    "<center><h2>Student Activity:</h2></center>\n",
    "<br>\n",
    "<center>Using computational methods, test if the observed slope is statistically different from 0.</center>"
   ]
  },
  {
   "cell_type": "markdown",
   "metadata": {
    "slideshow": {
     "slide_type": "slide"
    }
   },
   "source": [
    "Hints\n",
    "-----\n",
    "\n",
    "- What would the data look like if the slope is 0, aka null hypothesis?"
   ]
  },
  {
   "cell_type": "markdown",
   "metadata": {
    "slideshow": {
     "slide_type": "fragment"
    }
   },
   "source": [
    "- What is the simplest change you can make to the experimental code to model that?\n",
    "\n",
    "```python\n",
    "# Permutation testing for experimental data \n",
    "\n",
    "drug    = [54, 73, 53, 70, 73, 68, 52, 65, 65]\n",
    "placebo = [54, 51, 58, 44, 55, 52, 42, 47, 58, 46]\n",
    "observed_diff = mean(drug) - mean(placebo)\n",
    "\n",
    "n = 10_000\n",
    "count = 0\n",
    "\n",
    "for _ in range(n):\n",
    "    shuffle(combined)\n",
    "    shuffled_diff = mean(combined[:len(drug)]) - mean(combined[len(drug):])\n",
    "    count += (shuffled_diff >= observed_diff)\n",
    "\n",
    "count/n\n",
    "```"
   ]
  },
  {
   "cell_type": "code",
   "execution_count": 250,
   "metadata": {
    "slideshow": {
     "slide_type": "slide"
    }
   },
   "outputs": [],
   "source": [
    "# Permutation testing for regression data\n",
    "n = 10_000\n",
    "\n",
    "count = 0\n",
    "for _ in range(n):\n",
    "    shuffle(y) # Permutate the data \n",
    "    random_slope = slope(x, y) # Caculate the statistic if null hypothesis is true\n",
    "    count += (random_slope >= observed_slope) # Track how many times the random data is more like the alternative hypothesis than the observed data"
   ]
  },
  {
   "cell_type": "code",
   "execution_count": 251,
   "metadata": {
    "slideshow": {
     "slide_type": "fragment"
    }
   },
   "outputs": [
    {
     "name": "stdout",
     "output_type": "stream",
     "text": [
      "10,000 label reshufflings produced only 26 instances \n",
      "with a difference at least as extreme as the observed difference of 0.1.\n"
     ]
    }
   ],
   "source": [
    "print(f\"\"\"{n:,} label reshufflings produced only {count:,} instances \n",
    "with a difference at least as extreme as the observed difference of {observed_slope:.1f}.\"\"\")"
   ]
  },
  {
   "cell_type": "code",
   "execution_count": 252,
   "metadata": {
    "slideshow": {
     "slide_type": "fragment"
    }
   },
   "outputs": [
    {
     "data": {
      "text/plain": [
       "0.0026"
      ]
     },
     "execution_count": 252,
     "metadata": {},
     "output_type": "execute_result"
    }
   ],
   "source": [
    "# Calculate the p-value\n",
    "count / n"
   ]
  },
  {
   "cell_type": "markdown",
   "metadata": {
    "slideshow": {
     "slide_type": "slide"
    }
   },
   "source": [
    "<center><h2>What conclusion should we draw?</h2></center>"
   ]
  },
  {
   "cell_type": "markdown",
   "metadata": {
    "slideshow": {
     "slide_type": "fragment"
    }
   },
   "source": [
    "<center>There is a statistically significant linear relationship between flight distance and cost.</center>"
   ]
  },
  {
   "cell_type": "code",
   "execution_count": 256,
   "metadata": {},
   "outputs": [
    {
     "name": "stdout",
     "output_type": "stream",
     "text": [
      "10,000 label reshufflings produced 3,434 instances \n",
      "with a difference at least as extreme as the observed difference of 0.1.\n",
      "\n",
      "\n",
      "The p-value is 0.3434\n"
     ]
    }
   ],
   "source": [
    "# What happens with random data, not statistically signficant linear relationship?\n",
    "from random import uniform\n",
    "\n",
    "n = 10\n",
    "x = [uniform(1, 100) for _ in range(10)]\n",
    "y = [uniform(1, 100) for _ in range(10)]\n",
    "\n",
    "# Permutation testing for regression data\n",
    "n = 10_000\n",
    "\n",
    "count = 0\n",
    "for _ in range(n):\n",
    "    shuffle(y) # Permutate the data \n",
    "    random_slope = slope(x, y) # Caculate the statistic if null hypothesis is true\n",
    "    count += (random_slope >= observed_slope) # Track how many times the random data is more like the alternative hypothesis than the observed data\n",
    "\n",
    "print(f\"\"\"{n:,} label reshufflings produced {count:,} instances \n",
    "with a difference at least as extreme as the observed difference of {observed_slope:.1f}.\n",
    "\n",
    "\"\"\")\n",
    "\n",
    "print(f\"The p-value is {count / n}\")\n",
    "\n",
    "# Thus, fail to reject the null hypothesis"
   ]
  },
  {
   "cell_type": "markdown",
   "metadata": {
    "slideshow": {
     "slide_type": "slide"
    }
   },
   "source": [
    "<center><h2>The only question: \"Is the apparent effect real, or is it due to chance?\" \n",
    "</h2></center>"
   ]
  },
  {
   "cell_type": "markdown",
   "metadata": {
    "slideshow": {
     "slide_type": "fragment"
    }
   },
   "source": [
    "Thus, there is only a __single__ test in all of hypothesis testing!"
   ]
  },
  {
   "cell_type": "markdown",
   "metadata": {
    "slideshow": {
     "slide_type": "fragment"
    }
   },
   "source": [
    "If you use computational methods, you can throw away all your test statistics."
   ]
  },
  {
   "cell_type": "markdown",
   "metadata": {
    "slideshow": {
     "slide_type": "fragment"
    }
   },
   "source": [
    "Computational methods also allow us to test hard / impossible hypotheses for analytical methods"
   ]
  },
  {
   "cell_type": "markdown",
   "metadata": {
    "slideshow": {
     "slide_type": "slide"
    }
   },
   "source": [
    "<center><h2>Permutation tests for median differences</h2></center>\n",
    "\n",
    "__Why do we care about median differences?__"
   ]
  },
  {
   "cell_type": "markdown",
   "metadata": {
    "slideshow": {
     "slide_type": "fragment"
    }
   },
   "source": [
    "- Data is often not normal. Median is robust to outliers and skew. \n",
    "\n",
    "- Median make sense for ordinal data. Whereas, the mean does not make sense for ordinal data."
   ]
  },
  {
   "cell_type": "markdown",
   "metadata": {
    "slideshow": {
     "slide_type": "notes"
    }
   },
   "source": [
    "Think of 1-bedroom rent in SF. What is the mean? What is the median?"
   ]
  },
  {
   "cell_type": "markdown",
   "metadata": {
    "slideshow": {
     "slide_type": "fragment"
    }
   },
   "source": [
    "__Why can't we use analytical methods for testing for median tests?__"
   ]
  },
  {
   "cell_type": "markdown",
   "metadata": {
    "slideshow": {
     "slide_type": "fragment"
    }
   },
   "source": [
    "It turns out deriving an exact sampling distribution is not possible for many cases of testing median."
   ]
  },
  {
   "cell_type": "markdown",
   "metadata": {
    "slideshow": {
     "slide_type": "slide"
    }
   },
   "source": [
    "<center><h2>Permutation tests for median differences</h2></center>\n",
    "\n",
    "It is trivially simple to compare medians with permutation testing."
   ]
  },
  {
   "cell_type": "code",
   "execution_count": 233,
   "metadata": {
    "slideshow": {
     "slide_type": "fragment"
    }
   },
   "outputs": [
    {
     "name": "stdout",
     "output_type": "stream",
     "text": [
      "10,000 label reshufflings produced only 38 instances \n",
      "with a difference at least as extreme as the observed difference of 13.5.\n",
      "\n",
      "That gives a p-value of: 0.0038\n",
      "\n"
     ]
    }
   ],
   "source": [
    "# Back to our drugs vs. placebo example\n",
    "\n",
    "# Import median\n",
    "from statistics import median\n",
    "\n",
    "observed_diff = median(drug) - median(placebo)\n",
    "\n",
    "n = 10_000\n",
    "count = 0\n",
    "for _ in range(n):\n",
    "    shuffle(combined)\n",
    "    new_diff = median(combined[:len(drug)]) - median(combined[len(drug):]) # Compare median differnce\n",
    "    count += (new_diff >= observed_diff)\n",
    "    \n",
    "print(f\"\"\"{n:,} label reshufflings produced only {count} instances \n",
    "with a difference at least as extreme as the observed difference of {observed_diff:.1f}.\n",
    "\n",
    "That gives a p-value of: {count / n}\n",
    "\"\"\")"
   ]
  },
  {
   "cell_type": "markdown",
   "metadata": {
    "slideshow": {
     "slide_type": "notes"
    }
   },
   "source": [
    "Median Test Resources\n",
    "-----\n",
    "\n",
    "- https://en.wikipedia.org/wiki/Median_test\n",
    "- http://davidmlane.com/hyperstat/A106993.html\n",
    "- http://rcompanion.org/handbook/F_15.html"
   ]
  },
  {
   "cell_type": "markdown",
   "metadata": {
    "slideshow": {
     "slide_type": "slide"
    }
   },
   "source": [
    "Review\n",
    "-------\n",
    "\n",
    "- The goal of hypothesis testing is to systematically determine if there is an effect or not.\n",
    "- We can simulate the null effect many times to create a sampling distribution.\n",
    "- This can be done for many types of tests.\n",
    "- Using Python's `random` module, including `shuffle`, it is straightforward to write simulation code."
   ]
  },
  {
   "cell_type": "markdown",
   "metadata": {
    "slideshow": {
     "slide_type": "slide"
    }
   },
   "source": [
    " "
   ]
  },
  {
   "cell_type": "markdown",
   "metadata": {
    "slideshow": {
     "slide_type": "slide"
    }
   },
   "source": [
    "Resources\n",
    "-------\n",
    "\n",
    "- \"[Statistics Without the Agonizing Pain](https://www.youtube.com/watch?v=5Dnw46eC-0o)\" by John Rauser\n",
    "- \"[Statistics is Easy](https://www.amazon.com/Statistics-Second-Synthesis-Lectures-Mathematics/dp/160845570X)\" by Dennis Shasha and Manda Wilson\n",
    "- [Raymond Hettinger's Modern Python course](https://github.com/rhettinger/modernpython/blob/master/resampling.py)\n",
    "- https://stattrek.com/regression/regression-example.aspx\n",
    "- http://allendowney.blogspot.com/2011/05/there-is-only-one-test.html\n"
   ]
  },
  {
   "cell_type": "markdown",
   "metadata": {
    "slideshow": {
     "slide_type": "slide"
    }
   },
   "source": [
    "<center><img src=\"images/need_stats.jpg\" width=\"75%\"/></center>"
   ]
  },
  {
   "cell_type": "markdown",
   "metadata": {},
   "source": [
    " "
   ]
  }
 ],
 "metadata": {
  "celltoolbar": "Slideshow",
  "kernelspec": {
   "display_name": "Python 3",
   "language": "python",
   "name": "python3"
  },
  "language_info": {
   "codemirror_mode": {
    "name": "ipython",
    "version": 3
   },
   "file_extension": ".py",
   "mimetype": "text/x-python",
   "name": "python",
   "nbconvert_exporter": "python",
   "pygments_lexer": "ipython3",
   "version": "3.7.2"
  }
 },
 "nbformat": 4,
 "nbformat_minor": 2
}
