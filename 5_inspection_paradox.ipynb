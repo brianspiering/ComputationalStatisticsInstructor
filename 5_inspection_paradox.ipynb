{
 "cells": [
  {
   "cell_type": "markdown",
   "metadata": {
    "slideshow": {
     "slide_type": "slide"
    }
   },
   "source": [
    "Computational Take on Statistics: Inspection paradox\n",
    "========\n",
    "\n",
    "Why are your friend's are more popular than you?"
   ]
  },
  {
   "cell_type": "markdown",
   "metadata": {
    "slideshow": {
     "slide_type": "slide"
    }
   },
   "source": [
    "What we'll be doing\n",
    "-------\n",
    "\n",
    "- Learn to use Python's `random` module\n",
    "- Simulate common probablitiies"
   ]
  },
  {
   "cell_type": "markdown",
   "metadata": {
    "slideshow": {
     "slide_type": "slide"
    }
   },
   "source": [
    "If your school advetized class is 30, student experienced class size?"
   ]
  },
  {
   "cell_type": "markdown",
   "metadata": {
    "slideshow": {
     "slide_type": "fragment"
    }
   },
   "source": [
    "In a school with an average class size of 31, a student's average class size is 63."
   ]
  },
  {
   "cell_type": "code",
   "execution_count": 3,
   "metadata": {
    "slideshow": {
     "slide_type": "notes"
    }
   },
   "outputs": [],
   "source": [
    "reset -fs"
   ]
  },
  {
   "cell_type": "code",
   "execution_count": 4,
   "metadata": {},
   "outputs": [],
   "source": [
    "from random import expovariate\n",
    "\n",
    "class_size = 30\n",
    "sizes = [expovariate(1/class_size) for _ in range(1_000)]"
   ]
  },
  {
   "cell_type": "code",
   "execution_count": 5,
   "metadata": {},
   "outputs": [
    {
     "data": {
      "image/png": "[encoded data removed]",
      "text/plain": [
       "<Figure size 432x288 with 1 Axes>"
      ]
     },
     "metadata": {
      "needs_background": "light"
     },
     "output_type": "display_data"
    }
   ],
   "source": [
    "import seaborn as sns\n",
    "\n",
    "palette = \"Dark2\"\n",
    "%matplotlib inline\n",
    "\n",
    "sns.distplot(sizes, kde=False);"
   ]
  },
  {
   "cell_type": "code",
   "execution_count": 6,
   "metadata": {},
   "outputs": [
    {
     "name": "stdout",
     "output_type": "stream",
     "text": [
      "29.81\n"
     ]
    }
   ],
   "source": [
    "from statistics import mean\n",
    "\n",
    "mean_class_size = mean(sizes)\n",
    "print(f\"{mean_class_size:.2f}\")"
   ]
  },
  {
   "cell_type": "code",
   "execution_count": 7,
   "metadata": {},
   "outputs": [
    {
     "name": "stdout",
     "output_type": "stream",
     "text": [
      "63.13\n"
     ]
    }
   ],
   "source": [
    "from random import choices\n",
    "\n",
    "student_experience = choices(sizes, weights=sizes, k=len(sizes))\n",
    "mean_student_experience = mean(student_experience)\n",
    "print(f\"{mean_student_experience:.2f}\")"
   ]
  },
  {
   "cell_type": "code",
   "execution_count": 36,
   "metadata": {},
   "outputs": [],
   "source": [
    "# What about normal data?\n",
    "\n",
    "def actual_vs_perception(class_size, distribution_name, **distrubtion_params):\n",
    "    \n",
    "    sizes = [distribution_name(**distrubtion_params) for _ in range(10_000)]\n",
    "    mean_class_size = mean(sizes)\n",
    "    print(f\"The actual mean class size is: {mean_class_size:>8.2f}\")\n",
    "\n",
    "    student_experience = choices(sizes, weights=sizes, k=len(sizes))\n",
    "    mean_student_experience = mean(student_experience)\n",
    "    print(f\"The perceived mean class size is: {mean_student_experience:>5.2f}\")"
   ]
  },
  {
   "cell_type": "markdown",
   "metadata": {},
   "source": [
    "The software engineer in me wants to write tests."
   ]
  },
  {
   "cell_type": "code",
   "execution_count": 37,
   "metadata": {},
   "outputs": [
    {
     "name": "stdout",
     "output_type": "stream",
     "text": [
      "The actual mean class size is:    30.03\n",
      "The perceived mean class size is: 59.17\n"
     ]
    }
   ],
   "source": [
    "actual_vs_perception(class_size=30, distribution_name=expovariate, lambd=1/class_size)"
   ]
  },
  {
   "cell_type": "code",
   "execution_count": 38,
   "metadata": {},
   "outputs": [
    {
     "name": "stdout",
     "output_type": "stream",
     "text": [
      "The actual mean class size is:    29.89\n",
      "The perceived mean class size is: 33.23\n"
     ]
    }
   ],
   "source": [
    "from random import gauss\n",
    "\n",
    "actual_vs_perception(class_size=30, distribution_name=gauss, mu=class_size, sigma=10)"
   ]
  },
  {
   "cell_type": "code",
   "execution_count": 48,
   "metadata": {},
   "outputs": [
    {
     "name": "stdout",
     "output_type": "stream",
     "text": [
      "The actual mean class size is:    29.96\n",
      "The perceived mean class size is: 32.68\n"
     ]
    }
   ],
   "source": [
    "from random import uniform\n",
    "\n",
    "actual_vs_perception(class_size=30, distribution_name=uniform, a=15, b=45)"
   ]
  },
  {
   "cell_type": "markdown",
   "metadata": {},
   "source": [
    "Statistics are a defense against human cognitive biases"
   ]
  },
  {
   "cell_type": "markdown",
   "metadata": {},
   "source": [
    "why you're less popular than your friends\n",
    "-----\n",
    "\n",
    "think, pair, share"
   ]
  },
  {
   "cell_type": "markdown",
   "metadata": {},
   "source": [
    "Summary\n",
    "-----\n"
   ]
  },
  {
   "cell_type": "markdown",
   "metadata": {},
   "source": [
    "Enjoy the conference\n",
    "-----\n",
    "\n",
    "Feel free to chat with me (and others)"
   ]
  },
  {
   "cell_type": "markdown",
   "metadata": {},
   "source": [
    "Further Study\n",
    "------\n",
    "\n"
   ]
  },
  {
   "cell_type": "markdown",
   "metadata": {},
   "source": [
    "Sources\n",
    "-----\n",
    "\n",
    "- Renewal theory https://en.wikipedia.org/wiki/Renewal_theory\n",
    "\n",
    "http://ben-israel.rutgers.edu/711/Ross-Inspection.pdf\n",
    "\n",
    "http://allendowney.blogspot.com/2015/08/the-inspection-paradox-is-everywhere.html\n",
    "\n",
    "Source: https://twitter.com/raymondh/status/1056774933471145984\n",
    "\n",
    "https://www.scientificamerican.com/article/why-youre-probably-less-popular/\n",
    "\n",
    "http://jakevdp.github.io/blog/2018/09/13/waiting-time-paradox/"
   ]
  }
 ],
 "metadata": {
  "celltoolbar": "Slideshow",
  "kernelspec": {
   "display_name": "Python 3",
   "language": "python",
   "name": "python3"
  },
  "language_info": {
   "codemirror_mode": {
    "name": "ipython",
    "version": 3
   },
   "file_extension": ".py",
   "mimetype": "text/x-python",
   "name": "python",
   "nbconvert_exporter": "python",
   "pygments_lexer": "ipython3",
   "version": "3.7.2"
  }
 },
 "nbformat": 4,
 "nbformat_minor": 2
}
