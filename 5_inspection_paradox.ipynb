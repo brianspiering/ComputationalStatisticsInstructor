{
 "cells": [
  {
   "cell_type": "markdown",
   "metadata": {},
   "source": [
    "Computational Take on Statistics: Inspection paradox\n",
    "========\n",
    "\n",
    "Why are your friend's are more popular than you?"
   ]
  },
  {
   "cell_type": "markdown",
   "metadata": {},
   "source": [
    "What we'll be doing\n",
    "-------\n",
    "\n",
    "- Learn to use Python's `random` module\n",
    "- Simulate common probablitiies"
   ]
  },
  {
   "cell_type": "markdown",
   "metadata": {},
   "source": [
    "If your school advetized class is 30, student experienced class size?"
   ]
  },
  {
   "cell_type": "markdown",
   "metadata": {},
   "source": [
    "In a school with an average class size of 31, a student's average class size is 63."
   ]
  },
  {
   "cell_type": "code",
   "execution_count": 19,
   "metadata": {},
   "outputs": [],
   "source": [
    "from random import expovariate\n",
    "\n",
    "class_size = 30\n",
    "sizes = [expovariate(1/class_size) for _ in range(1_000)]"
   ]
  },
  {
   "cell_type": "code",
   "execution_count": 9,
   "metadata": {},
   "outputs": [
    {
     "data": {
      "image/png": "[encoded data removed]",
      "text/plain": [
       "<Figure size 432x288 with 1 Axes>"
      ]
     },
     "metadata": {
      "needs_background": "light"
     },
     "output_type": "display_data"
    }
   ],
   "source": [
    "import seaborn as sns\n",
    "\n",
    "palette = \"Dark2\"\n",
    "%matplotlib inline\n",
    "\n",
    "sns.distplot(sizes);"
   ]
  },
  {
   "cell_type": "code",
   "execution_count": 30,
   "metadata": {},
   "outputs": [
    {
     "data": {
      "text/plain": [
       "'31.20'"
      ]
     },
     "execution_count": 30,
     "metadata": {},
     "output_type": "execute_result"
    }
   ],
   "source": [
    "from statistics import mean\n",
    "\n",
    "mean_class_size = mean(sizes)\n",
    "print(f\"{mean_class_size:.2f}\")"
   ]
  },
  {
   "cell_type": "code",
   "execution_count": 37,
   "metadata": {},
   "outputs": [
    {
     "name": "stdout",
     "output_type": "stream",
     "text": [
      "66.18\n"
     ]
    }
   ],
   "source": [
    "from random import choices\n",
    "\n",
    "student_experience = choices(sizes, weights=sizes, k=len(sizes))\n",
    "mean_student_experience = mean(student_experience)\n",
    "print(f\"{mean_student_experience:.2f}\")"
   ]
  },
  {
   "cell_type": "code",
   "execution_count": 52,
   "metadata": {},
   "outputs": [
    {
     "name": "stdout",
     "output_type": "stream",
     "text": [
      "29.75\n",
      "33.10\n"
     ]
    }
   ],
   "source": [
    "# What about normal data?\n",
    "\n",
    "def actual_vs_perception(class_size, distribution_name, **distrubtion_params):\n",
    "    \n",
    "    sizes = [distribution_name(**distrubtion_params) for _ in range(1_000)]\n",
    "    mean_class_size = mean(sizes)\n",
    "    print(f\"{mean_class_size:.2f}\")\n",
    "\n",
    "    student_experience = choices(sizes, weights=sizes, k=len(sizes))\n",
    "    mean_student_experience = mean(student_experience)\n",
    "    print(f\"{mean_student_experience:.2f}\")\n",
    "    \n"
   ]
  },
  {
   "cell_type": "code",
   "execution_count": 55,
   "metadata": {},
   "outputs": [
    {
     "name": "stdout",
     "output_type": "stream",
     "text": [
      "29.90\n",
      "32.68\n"
     ]
    }
   ],
   "source": [
    "from random import gauss\n",
    "\n",
    "actual_vs_perception(class_size=30, distribution_name=gauss, mu=class_size, sigma=10)"
   ]
  },
  {
   "cell_type": "code",
   "execution_count": 56,
   "metadata": {},
   "outputs": [
    {
     "name": "stdout",
     "output_type": "stream",
     "text": [
      "32.67\n",
      "35.89\n"
     ]
    }
   ],
   "source": [
    "from random import uniform\n",
    "\n",
    "actual_vs_perception(class_size=30, distribution_name=uniform, a=15, b=50)"
   ]
  },
  {
   "cell_type": "markdown",
   "metadata": {},
   "source": [
    "Statistics as a defense against human cognitive biases"
   ]
  },
  {
   "cell_type": "markdown",
   "metadata": {},
   "source": [
    "why you're less popular than your friends\n",
    "-----\n",
    "\n",
    "think, pair, share"
   ]
  },
  {
   "cell_type": "markdown",
   "metadata": {},
   "source": [
    "Summary\n",
    "-----\n"
   ]
  },
  {
   "cell_type": "markdown",
   "metadata": {},
   "source": [
    "Further Study\n",
    "------\n",
    "\n"
   ]
  },
  {
   "cell_type": "markdown",
   "metadata": {},
   "source": [
    "Sources\n",
    "-----\n",
    "\n",
    "- Renewal theory https://en.wikipedia.org/wiki/Renewal_theory\n",
    "\n",
    "http://ben-israel.rutgers.edu/711/Ross-Inspection.pdf\n",
    "\n",
    "http://allendowney.blogspot.com/2015/08/the-inspection-paradox-is-everywhere.html\n",
    "\n",
    "Source: https://twitter.com/raymondh/status/1056774933471145984\n",
    "\n",
    "https://www.scientificamerican.com/article/why-youre-probably-less-popular/\n",
    "\n",
    "http://jakevdp.github.io/blog/2018/09/13/waiting-time-paradox/"
   ]
  }
 ],
 "metadata": {
  "kernelspec": {
   "display_name": "Python 3",
   "language": "python",
   "name": "python3"
  },
  "language_info": {
   "codemirror_mode": {
    "name": "ipython",
    "version": 3
   },
   "file_extension": ".py",
   "mimetype": "text/x-python",
   "name": "python",
   "nbconvert_exporter": "python",
   "pygments_lexer": "ipython3",
   "version": "3.7.2"
  }
 },
 "nbformat": 4,
 "nbformat_minor": 2
}
