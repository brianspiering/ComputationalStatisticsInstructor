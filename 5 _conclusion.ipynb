{
 "cells": [
  {
   "cell_type": "markdown",
   "metadata": {
    "slideshow": {
     "slide_type": "slide"
    }
   },
   "source": [
    "<center><h2>Student Activity: Review</h2></center>\n",
    "<br>\n",
    "<center>With your table mates, write down the top 3 ideas from today in your words </center>"
   ]
  },
  {
   "cell_type": "markdown",
   "metadata": {
    "slideshow": {
     "slide_type": "slide"
    }
   },
   "source": [
    "What We Learned Today\n",
    "-----\n",
    "\n",
    "1) Applied Data Science fundamentals to better understand the world:\n",
    "    - Coding\n",
    "    - Counting\n",
    "    - Probability\n",
    "    - Visualization\n",
    "    - Experimental testing"
   ]
  },
  {
   "cell_type": "markdown",
   "metadata": {
    "slideshow": {
     "slide_type": "fragment"
    }
   },
   "source": [
    "2) Probabilities can be simulated with Python's `random` module (`choices` is most useful function)"
   ]
  },
  {
   "cell_type": "markdown",
   "metadata": {
    "slideshow": {
     "slide_type": "fragment"
    }
   },
   "source": [
    "3) Permutation testing is a single method to test all kinds of hypotheses"
   ]
  },
  {
   "cell_type": "markdown",
   "metadata": {
    "slideshow": {
     "slide_type": "slide"
    }
   },
   "source": [
    "Further Study\n",
    "------\n",
    "\n",
    "- Course: [Computational Statistics in Python from Duke](http://people.duke.edu/~ccc14/sta-663-2017/)\n",
    "- Book: [Computational Statistics](https://www.amazon.com/Computational-Statistics-Computing-James-Gentle/dp/0387981438/) by James E. Gentle\n",
    "- Study Analytical Statistics\n",
    "- Bayesian Statistics\n",
    "    - [Bayesian Methods for Hackers](https://github.com/CamDavidsonPilon/Probabilistic-Programming-and-Bayesian-Methods-for-Hackers)"
   ]
  },
  {
   "cell_type": "markdown",
   "metadata": {
    "slideshow": {
     "slide_type": "slide"
    }
   },
   "source": [
    "Closing Thought\n",
    "-----\n",
    "\n",
    "Enjoy the conference\n",
    "\n",
    "Feel free to chat with me (and others)"
   ]
  },
  {
   "cell_type": "markdown",
   "metadata": {
    "slideshow": {
     "slide_type": "slide"
    }
   },
   "source": [
    " "
   ]
  }
 ],
 "metadata": {
  "celltoolbar": "Slideshow",
  "kernelspec": {
   "display_name": "Python 3",
   "language": "python",
   "name": "python3"
  },
  "language_info": {
   "codemirror_mode": {
    "name": "ipython",
    "version": 3
   },
   "file_extension": ".py",
   "mimetype": "text/x-python",
   "name": "python",
   "nbconvert_exporter": "python",
   "pygments_lexer": "ipython3",
   "version": "3.7.2"
  }
 },
 "nbformat": 4,
 "nbformat_minor": 2
}
